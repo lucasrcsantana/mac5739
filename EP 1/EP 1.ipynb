{
 "cells": [
  {
   "cell_type": "code",
   "execution_count": 1,
   "metadata": {},
   "outputs": [],
   "source": [
    "import sys\n",
    "sys.path.insert(0,'.')\n",
    "\n",
    "import util\n",
    "import ep1"
   ]
  },
  {
   "cell_type": "code",
   "execution_count": 1,
   "metadata": {},
   "outputs": [],
   "source": [
    "query = 'believeinyourselfhavefaithinyourabilities'"
   ]
  },
  {
   "cell_type": "code",
   "execution_count": 25,
   "metadata": {},
   "outputs": [],
   "source": [
    "initial_state = ([query], [''])"
   ]
  },
  {
   "cell_type": "code",
   "execution_count": 27,
   "metadata": {},
   "outputs": [
    {
     "data": {
      "text/plain": [
       "(['believeinyourselfhavefaithinyourabilities'], [''])"
      ]
     },
     "execution_count": 27,
     "metadata": {},
     "output_type": "execute_result"
    }
   ],
   "source": [
    "initial_state"
   ]
  },
  {
   "cell_type": "code",
   "execution_count": 30,
   "metadata": {},
   "outputs": [
    {
     "data": {
      "text/plain": [
       "41"
      ]
     },
     "execution_count": 30,
     "metadata": {},
     "output_type": "execute_result"
    }
   ],
   "source": [
    "len(initial_state[0][0])"
   ]
  },
  {
   "cell_type": "code",
   "execution_count": 63,
   "metadata": {},
   "outputs": [],
   "source": [
    "left_word = []\n",
    "right_word = []"
   ]
  },
  {
   "cell_type": "code",
   "execution_count": 85,
   "metadata": {},
   "outputs": [
    {
     "ename": "AttributeError",
     "evalue": "'str' object has no attribute 'append'",
     "output_type": "error",
     "traceback": [
      "\u001b[1;31m---------------------------------------------------------------------------\u001b[0m",
      "\u001b[1;31mAttributeError\u001b[0m                            Traceback (most recent call last)",
      "\u001b[1;32m<ipython-input-85-c0fcce192995>\u001b[0m in \u001b[0;36m<module>\u001b[1;34m\u001b[0m\n\u001b[0;32m      1\u001b[0m \u001b[1;32mfor\u001b[0m \u001b[0mi\u001b[0m \u001b[1;32min\u001b[0m \u001b[0mrange\u001b[0m\u001b[1;33m(\u001b[0m\u001b[1;36m0\u001b[0m\u001b[1;33m,\u001b[0m \u001b[0mlen\u001b[0m\u001b[1;33m(\u001b[0m\u001b[0mquery\u001b[0m\u001b[1;33m)\u001b[0m\u001b[1;33m)\u001b[0m\u001b[1;33m:\u001b[0m\u001b[1;33m\u001b[0m\u001b[1;33m\u001b[0m\u001b[0m\n\u001b[1;32m----> 2\u001b[1;33m     \u001b[0mleft_word\u001b[0m\u001b[1;33m.\u001b[0m\u001b[0mappend\u001b[0m\u001b[1;33m(\u001b[0m\u001b[0mquery\u001b[0m\u001b[1;33m[\u001b[0m\u001b[1;33m:\u001b[0m\u001b[0mi\u001b[0m\u001b[1;33m+\u001b[0m\u001b[1;36m1\u001b[0m\u001b[1;33m]\u001b[0m\u001b[1;33m)\u001b[0m\u001b[1;33m\u001b[0m\u001b[1;33m\u001b[0m\u001b[0m\n\u001b[0m\u001b[0;32m      3\u001b[0m     \u001b[0mright_word\u001b[0m\u001b[1;33m.\u001b[0m\u001b[0mappend\u001b[0m\u001b[1;33m(\u001b[0m\u001b[0mquery\u001b[0m\u001b[1;33m[\u001b[0m\u001b[0mi\u001b[0m\u001b[1;33m+\u001b[0m\u001b[1;36m1\u001b[0m\u001b[1;33m:\u001b[0m\u001b[1;33m]\u001b[0m\u001b[1;33m)\u001b[0m\u001b[1;33m\u001b[0m\u001b[1;33m\u001b[0m\u001b[0m\n",
      "\u001b[1;31mAttributeError\u001b[0m: 'str' object has no attribute 'append'"
     ]
    }
   ],
   "source": [
    "for i in range(0, len(query)):\n",
    "    left_word.append(query[:i+1])\n",
    "    right_word.append(query[i+1:])"
   ]
  },
  {
   "cell_type": "code",
   "execution_count": 86,
   "metadata": {},
   "outputs": [
    {
     "ename": "NameError",
     "evalue": "name 'left_word_costs' is not defined",
     "output_type": "error",
     "traceback": [
      "\u001b[1;31m---------------------------------------------------------------------------\u001b[0m",
      "\u001b[1;31mNameError\u001b[0m                                 Traceback (most recent call last)",
      "\u001b[1;32m<ipython-input-86-d52cd26058cf>\u001b[0m in \u001b[0;36m<module>\u001b[1;34m\u001b[0m\n\u001b[1;32m----> 1\u001b[1;33m \u001b[1;32mfor\u001b[0m \u001b[0mx\u001b[0m\u001b[1;33m,\u001b[0m \u001b[0my\u001b[0m \u001b[1;32min\u001b[0m \u001b[0mzip\u001b[0m\u001b[1;33m(\u001b[0m\u001b[0mleft_word\u001b[0m\u001b[1;33m,\u001b[0m \u001b[0mleft_word_costs\u001b[0m\u001b[1;33m)\u001b[0m\u001b[1;33m:\u001b[0m\u001b[1;33m\u001b[0m\u001b[1;33m\u001b[0m\u001b[0m\n\u001b[0m\u001b[0;32m      2\u001b[0m     \u001b[0mprint\u001b[0m\u001b[1;33m(\u001b[0m\u001b[1;34mf'Palavra: {x} - Custo {y}'\u001b[0m\u001b[1;33m)\u001b[0m\u001b[1;33m\u001b[0m\u001b[1;33m\u001b[0m\u001b[0m\n",
      "\u001b[1;31mNameError\u001b[0m: name 'left_word_costs' is not defined"
     ]
    }
   ],
   "source": [
    "for x, y in zip(left_word, left_word_costs):\n",
    "    print(f'Palavra: {x} - Custo {y}')"
   ]
  },
  {
   "cell_type": "code",
   "execution_count": 79,
   "metadata": {},
   "outputs": [
    {
     "name": "stdout",
     "output_type": "stream",
     "text": [
      "Palavra: elieveinyourselfhavefaithinyourabilities - Custo 89.18948432963353\n",
      "Palavra: lieveinyourselfhavefaithinyourabilities - Custo 87.29236434474765\n",
      "Palavra: ieveinyourselfhavefaithinyourabilities - Custo 85.39524435986176\n",
      "Palavra: eveinyourselfhavefaithinyourabilities - Custo 83.49812437497589\n",
      "Palavra: veinyourselfhavefaithinyourabilities - Custo 81.60100439009001\n",
      "Palavra: einyourselfhavefaithinyourabilities - Custo 79.70388440520412\n",
      "Palavra: inyourselfhavefaithinyourabilities - Custo 77.80676442031825\n",
      "Palavra: nyourselfhavefaithinyourabilities - Custo 75.90964443543237\n",
      "Palavra: yourselfhavefaithinyourabilities - Custo 74.01252445054648\n",
      "Palavra: ourselfhavefaithinyourabilities - Custo 72.1154044656606\n",
      "Palavra: urselfhavefaithinyourabilities - Custo 70.21828448077471\n",
      "Palavra: rselfhavefaithinyourabilities - Custo 68.32116449588884\n",
      "Palavra: selfhavefaithinyourabilities - Custo 66.42404451100296\n",
      "Palavra: elfhavefaithinyourabilities - Custo 64.52692452611707\n",
      "Palavra: lfhavefaithinyourabilities - Custo 62.6298045412312\n",
      "Palavra: fhavefaithinyourabilities - Custo 60.73268455634532\n",
      "Palavra: havefaithinyourabilities - Custo 58.835564571459436\n",
      "Palavra: avefaithinyourabilities - Custo 56.93844458657355\n",
      "Palavra: vefaithinyourabilities - Custo 55.04132460168767\n",
      "Palavra: efaithinyourabilities - Custo 53.144204616801794\n",
      "Palavra: faithinyourabilities - Custo 51.24708463191591\n",
      "Palavra: aithinyourabilities - Custo 49.34996464703003\n",
      "Palavra: ithinyourabilities - Custo 47.45284466214415\n",
      "Palavra: thinyourabilities - Custo 45.55572467725827\n",
      "Palavra: hinyourabilities - Custo 43.658604692372386\n",
      "Palavra: inyourabilities - Custo 41.7614847074865\n",
      "Palavra: nyourabilities - Custo 39.86436472260062\n",
      "Palavra: yourabilities - Custo 37.96724473771474\n",
      "Palavra: ourabilities - Custo 36.07012475282886\n",
      "Palavra: urabilities - Custo 34.17300476794298\n",
      "Palavra: rabilities - Custo 32.275884783057094\n",
      "Palavra: abilities - Custo 30.37876479817122\n",
      "Palavra: bilities - Custo 28.481644813285335\n",
      "Palavra: ilities - Custo 26.584524828399452\n",
      "Palavra: lities - Custo 24.68740484351357\n",
      "Palavra: ities - Custo 22.79028485862769\n",
      "Palavra: ties - Custo 12.203813428754065\n",
      "Palavra: ies - Custo 22.79028485862769\n",
      "Palavra: es - Custo 12.203813428754065\n",
      "Palavra: s - Custo 10.737476359960638\n",
      "Palavra:  - Custo 22.79028485862769\n"
     ]
    }
   ],
   "source": [
    "for x, y in zip(right_word, right_word_costs):\n",
    "    print(f'Palavra: {x} - Custo {y}')"
   ]
  },
  {
   "cell_type": "code",
   "execution_count": 85,
   "metadata": {},
   "outputs": [
    {
     "data": {
      "text/plain": [
       "'be'"
      ]
     },
     "execution_count": 85,
     "metadata": {},
     "output_type": "execute_result"
    }
   ],
   "source": [
    "left_word[costs.index(min(costs))]"
   ]
  },
  {
   "cell_type": "code",
   "execution_count": 71,
   "metadata": {},
   "outputs": [
    {
     "data": {
      "text/plain": [
       "'bel'"
      ]
     },
     "execution_count": 71,
     "metadata": {},
     "output_type": "execute_result"
    }
   ],
   "source": [
    "states[costs.index(min(costs)) + 1]"
   ]
  },
  {
   "cell_type": "code",
   "execution_count": 72,
   "metadata": {},
   "outputs": [
    {
     "data": {
      "text/plain": [
       "'lieveinyourselfhavefaithinyourabilities'"
      ]
     },
     "execution_count": 72,
     "metadata": {},
     "output_type": "execute_result"
    }
   ],
   "source": [
    "query[1 + 1:]"
   ]
  },
  {
   "cell_type": "code",
   "execution_count": 80,
   "metadata": {},
   "outputs": [
    {
     "data": {
      "text/plain": [
       "[10.663368387806916,\n",
       " 5.403272234079077,\n",
       " 22.79028485862769,\n",
       " 22.79028485862769,\n",
       " 22.79028485862769,\n",
       " 24.68740484351357,\n",
       " 8.450395453502558,\n",
       " 28.481644813285335,\n",
       " 30.37876479817122,\n",
       " 32.275884783057094,\n",
       " 34.17300476794298,\n",
       " 36.07012475282886,\n",
       " 37.96724473771474,\n",
       " 39.86436472260062,\n",
       " 41.7614847074865,\n",
       " 43.658604692372386,\n",
       " 45.55572467725827,\n",
       " 47.45284466214415,\n",
       " 49.34996464703003,\n",
       " 51.24708463191591,\n",
       " 53.144204616801794,\n",
       " 55.04132460168767,\n",
       " 56.93844458657355,\n",
       " 58.835564571459436,\n",
       " 60.73268455634532,\n",
       " 62.6298045412312,\n",
       " 64.52692452611707,\n",
       " 66.42404451100296,\n",
       " 68.32116449588884,\n",
       " 70.21828448077471,\n",
       " 72.1154044656606,\n",
       " 74.01252445054648,\n",
       " 75.90964443543237,\n",
       " 77.80676442031825,\n",
       " 79.70388440520412,\n",
       " 81.60100439009001,\n",
       " 83.49812437497589,\n",
       " 85.39524435986176,\n",
       " 87.29236434474765,\n",
       " 89.18948432963353,\n",
       " 91.0866043145194,\n",
       " 89.18948432963353,\n",
       " 87.29236434474765,\n",
       " 85.39524435986176,\n",
       " 83.49812437497589,\n",
       " 81.60100439009001,\n",
       " 79.70388440520412,\n",
       " 77.80676442031825,\n",
       " 75.90964443543237,\n",
       " 74.01252445054648,\n",
       " 72.1154044656606,\n",
       " 70.21828448077471,\n",
       " 68.32116449588884,\n",
       " 66.42404451100296,\n",
       " 64.52692452611707,\n",
       " 62.6298045412312,\n",
       " 60.73268455634532,\n",
       " 58.835564571459436,\n",
       " 56.93844458657355,\n",
       " 55.04132460168767,\n",
       " 53.144204616801794,\n",
       " 51.24708463191591,\n",
       " 49.34996464703003,\n",
       " 47.45284466214415,\n",
       " 45.55572467725827,\n",
       " 43.658604692372386,\n",
       " 41.7614847074865,\n",
       " 39.86436472260062,\n",
       " 37.96724473771474,\n",
       " 36.07012475282886,\n",
       " 34.17300476794298,\n",
       " 32.275884783057094,\n",
       " 30.37876479817122,\n",
       " 28.481644813285335,\n",
       " 26.584524828399452,\n",
       " 24.68740484351357,\n",
       " 22.79028485862769,\n",
       " 12.203813428754065,\n",
       " 22.79028485862769,\n",
       " 12.203813428754065,\n",
       " 10.737476359960638,\n",
       " 22.79028485862769]"
      ]
     },
     "execution_count": 80,
     "metadata": {},
     "output_type": "execute_result"
    }
   ],
   "source": [
    "left_word_costs + right_word_costs"
   ]
  },
  {
   "cell_type": "code",
   "execution_count": 82,
   "metadata": {},
   "outputs": [],
   "source": [
    "total_costs = [x + y for x,y in zip(left_word_costs, right_word_costs)]"
   ]
  },
  {
   "cell_type": "code",
   "execution_count": 33,
   "metadata": {},
   "outputs": [],
   "source": [
    "total_costs =  [41.951911686393466, 41.0287587382542, 47.47543048536515, 55.06616964168478, 53.169049656798904, 53.169049656798904, 53.169049656798904, 53.169049656798904, 53.169049656798904, 36.55792071246153, 43.58361018725452, 40.9318064509982, 49.660232542702815, 62.65464958122831]"
   ]
  },
  {
   "cell_type": "code",
   "execution_count": 34,
   "metadata": {},
   "outputs": [
    {
     "data": {
      "text/plain": [
       "[41.951911686393466,\n",
       " 41.0287587382542,\n",
       " 47.47543048536515,\n",
       " 55.06616964168478,\n",
       " 53.169049656798904,\n",
       " 53.169049656798904,\n",
       " 53.169049656798904,\n",
       " 53.169049656798904,\n",
       " 53.169049656798904,\n",
       " 36.55792071246153,\n",
       " 43.58361018725452,\n",
       " 40.9318064509982,\n",
       " 49.660232542702815,\n",
       " 62.65464958122831]"
      ]
     },
     "execution_count": 34,
     "metadata": {},
     "output_type": "execute_result"
    }
   ],
   "source": [
    "total_costs"
   ]
  },
  {
   "cell_type": "code",
   "execution_count": 35,
   "metadata": {},
   "outputs": [
    {
     "data": {
      "text/plain": [
       "9"
      ]
     },
     "execution_count": 35,
     "metadata": {},
     "output_type": "execute_result"
    }
   ],
   "source": [
    "total_costs.index(min(total_costs))"
   ]
  },
  {
   "cell_type": "code",
   "execution_count": 36,
   "metadata": {},
   "outputs": [
    {
     "data": {
      "text/plain": [
       "'easthat'"
      ]
     },
     "execution_count": 36,
     "metadata": {},
     "output_type": "execute_result"
    }
   ],
   "source": [
    "left_word[6]"
   ]
  },
  {
   "cell_type": "markdown",
   "metadata": {},
   "source": [
    "# Próxima Query"
   ]
  },
  {
   "cell_type": "code",
   "execution_count": 1,
   "metadata": {},
   "outputs": [],
   "source": [
    "query = 'believeinyourselfhavefaithinyourabilities'"
   ]
  },
  {
   "cell_type": "code",
   "execution_count": 17,
   "metadata": {},
   "outputs": [],
   "source": [
    "query = 'assimpleasthat'"
   ]
  },
  {
   "cell_type": "code",
   "execution_count": 18,
   "metadata": {},
   "outputs": [],
   "source": [
    "initial_state = ([query], [])"
   ]
  },
  {
   "cell_type": "code",
   "execution_count": 19,
   "metadata": {},
   "outputs": [],
   "source": [
    "state_word = initial_state[0][0]"
   ]
  },
  {
   "cell_type": "code",
   "execution_count": 20,
   "metadata": {},
   "outputs": [
    {
     "data": {
      "text/plain": [
       "'assimpleasthat'"
      ]
     },
     "execution_count": 20,
     "metadata": {},
     "output_type": "execute_result"
    }
   ],
   "source": [
    "state_word"
   ]
  },
  {
   "cell_type": "code",
   "execution_count": 21,
   "metadata": {},
   "outputs": [],
   "source": [
    "left_word = []\n",
    "right_word = []"
   ]
  },
  {
   "cell_type": "code",
   "execution_count": 22,
   "metadata": {},
   "outputs": [],
   "source": [
    "for i in range(0, len(state_word)):\n",
    "    left_word.append(state_word[i+1:])\n",
    "    right_word.append(state_word[:i+1])"
   ]
  },
  {
   "cell_type": "code",
   "execution_count": 37,
   "metadata": {},
   "outputs": [
    {
     "data": {
      "text/plain": [
       "['ssimpleasthat',\n",
       " 'simpleasthat',\n",
       " 'impleasthat',\n",
       " 'mpleasthat',\n",
       " 'pleasthat',\n",
       " 'leasthat',\n",
       " 'easthat',\n",
       " 'asthat',\n",
       " 'sthat',\n",
       " 'that',\n",
       " 'hat',\n",
       " 'at',\n",
       " 't',\n",
       " '']"
      ]
     },
     "execution_count": 37,
     "metadata": {},
     "output_type": "execute_result"
    }
   ],
   "source": [
    "left_word"
   ]
  },
  {
   "cell_type": "code",
   "execution_count": 38,
   "metadata": {},
   "outputs": [
    {
     "data": {
      "text/plain": [
       "['a',\n",
       " 'as',\n",
       " 'ass',\n",
       " 'assi',\n",
       " 'assim',\n",
       " 'assimp',\n",
       " 'assimpl',\n",
       " 'assimple',\n",
       " 'assimplea',\n",
       " 'assimpleas',\n",
       " 'assimpleast',\n",
       " 'assimpleasth',\n",
       " 'assimpleastha',\n",
       " 'assimpleasthat']"
      ]
     },
     "execution_count": 38,
     "metadata": {},
     "output_type": "execute_result"
    }
   ],
   "source": [
    "right_word"
   ]
  },
  {
   "cell_type": "code",
   "execution_count": 25,
   "metadata": {},
   "outputs": [],
   "source": [
    "possible_states = []"
   ]
  },
  {
   "cell_type": "code",
   "execution_count": 26,
   "metadata": {},
   "outputs": [],
   "source": [
    "for x,y in zip(left_word, right_word):\n",
    "    possible_states.append((x,y))"
   ]
  },
  {
   "cell_type": "code",
   "execution_count": 27,
   "metadata": {},
   "outputs": [
    {
     "data": {
      "text/plain": [
       "[('ssimpleasthat', 'a'),\n",
       " ('simpleasthat', 'as'),\n",
       " ('impleasthat', 'ass'),\n",
       " ('mpleasthat', 'assi'),\n",
       " ('pleasthat', 'assim'),\n",
       " ('leasthat', 'assimp'),\n",
       " ('easthat', 'assimpl'),\n",
       " ('asthat', 'assimple'),\n",
       " ('sthat', 'assimplea'),\n",
       " ('that', 'assimpleas'),\n",
       " ('hat', 'assimpleast'),\n",
       " ('at', 'assimpleasth'),\n",
       " ('t', 'assimpleastha'),\n",
       " ('', 'assimpleasthat')]"
      ]
     },
     "execution_count": 27,
     "metadata": {},
     "output_type": "execute_result"
    }
   ],
   "source": [
    "possible_states"
   ]
  },
  {
   "cell_type": "code",
   "execution_count": 28,
   "metadata": {},
   "outputs": [],
   "source": [
    "def split_word(word, index):\n",
    "    \"\"\"ddd\"\"\"\n",
    "\n",
    "    word = word\n",
    "\n",
    "    left_word = word[index+1 : ]\n",
    "    right_word = word[ : index+1]\n",
    "\n",
    "    return (left_word, right_word)"
   ]
  },
  {
   "cell_type": "code",
   "execution_count": 29,
   "metadata": {},
   "outputs": [],
   "source": [
    "def actions(state):\n",
    "    \"\"\" Metodo que implementa retorno da lista de acoes validas\n",
    "    para um determinado estado\n",
    "    \"\"\"\n",
    "\n",
    "    word = state[0][0]\n",
    "\n",
    "    possible_states = []\n",
    "\n",
    "    for i in range(0, len(word)):\n",
    "        possible_states.append(split_word(word=word, index=i))\n",
    "        \n",
    "    return possible_states"
   ]
  },
  {
   "cell_type": "markdown",
   "metadata": {},
   "source": [
    "# Problema 2"
   ]
  },
  {
   "cell_type": "code",
   "execution_count": 2,
   "metadata": {},
   "outputs": [],
   "source": [
    "import sys\n",
    "sys.path.insert(0,'.')\n",
    "\n",
    "import util\n",
    "import ep1"
   ]
  },
  {
   "cell_type": "code",
   "execution_count": 5,
   "metadata": {},
   "outputs": [
    {
     "name": "stdout",
     "output_type": "stream",
     "text": [
      "Training language cost functions [corpus: corpus.txt]... \n",
      "Done!\n"
     ]
    }
   ],
   "source": [
    "unigramCost, bigramCost, possibleFills  =  ep1.getRealCosts()"
   ]
  },
  {
   "cell_type": "code",
   "execution_count": 4,
   "metadata": {},
   "outputs": [
    {
     "data": {
      "text/plain": [
       "(('sometimes', 'altar'), ('sometimes', 'alter'), ('sometimes', 'later'))"
      ]
     },
     "execution_count": 4,
     "metadata": {},
     "output_type": "execute_result"
    }
   ],
   "source": [
    "('sometimes', 'altar'), ('sometimes', 'alter'), ('sometimes', 'later')"
   ]
  },
  {
   "cell_type": "code",
   "execution_count": 19,
   "metadata": {},
   "outputs": [
    {
     "name": "stdout",
     "output_type": "stream",
     "text": [
      "[]\n",
      "['heave', 'have', 'hive']\n",
      "to heave - cost: 12.638163455955835\n",
      "to have - cost: 8.26240643429555\n",
      "to hive - cost: 13.33131063651578\n"
     ]
    }
   ],
   "source": [
    "_a = list(possibleFills('to'))\n",
    "print(_a)\n",
    "_a = ['to']\n",
    "_b = list(possibleFills('hv'))\n",
    "print(_b)\n",
    "\n",
    "costs = []\n",
    "for a in _a:\n",
    "    for b in _b:\n",
    "        cost = bigramCost(a, b)\n",
    "        print(f'{a} {b} - cost: {cost}')"
   ]
  },
  {
   "cell_type": "code",
   "execution_count": 7,
   "metadata": {},
   "outputs": [
    {
     "data": {
      "text/plain": [
       "'would like to have more letterswld lk t hv mr lttrs'"
      ]
     },
     "execution_count": 7,
     "metadata": {},
     "output_type": "execute_result"
    }
   ],
   "source": [
    "'would like to have more letters' 'wld lk t hv mr lttrs'"
   ]
  },
  {
   "cell_type": "code",
   "execution_count": 8,
   "metadata": {},
   "outputs": [],
   "source": [
    "_a = list(possibleFills('wld'))\n",
    "_a\n",
    "_b = list(possibleFills('lk'))\n",
    "_b\n",
    "\n",
    "pairs = []\n",
    "for a in _a:\n",
    "    for b in _b:\n",
    "        pairs.append((a, b))"
   ]
  },
  {
   "cell_type": "code",
   "execution_count": 9,
   "metadata": {},
   "outputs": [
    {
     "data": {
      "text/plain": [
       "[('would', 'look'),\n",
       " ('would', 'alike'),\n",
       " ('would', 'lake'),\n",
       " ('would', 'like'),\n",
       " ('wild', 'look'),\n",
       " ('wild', 'alike'),\n",
       " ('wild', 'lake'),\n",
       " ('wild', 'like'),\n",
       " ('wield', 'look'),\n",
       " ('wield', 'alike'),\n",
       " ('wield', 'lake'),\n",
       " ('wield', 'like'),\n",
       " ('wailed', 'look'),\n",
       " ('wailed', 'alike'),\n",
       " ('wailed', 'lake'),\n",
       " ('wailed', 'like')]"
      ]
     },
     "execution_count": 9,
     "metadata": {},
     "output_type": "execute_result"
    }
   ],
   "source": [
    "pairs"
   ]
  },
  {
   "cell_type": "code",
   "execution_count": 7,
   "metadata": {},
   "outputs": [
    {
     "data": {
      "text/plain": [
       "[]"
      ]
     },
     "execution_count": 7,
     "metadata": {},
     "output_type": "execute_result"
    }
   ],
   "source": [
    "list(possibleFills('zz$z$zz'))"
   ]
  },
  {
   "cell_type": "code",
   "execution_count": 11,
   "metadata": {},
   "outputs": [],
   "source": [
    "_d = ('', '')"
   ]
  },
  {
   "cell_type": "code",
   "execution_count": 12,
   "metadata": {},
   "outputs": [
    {
     "data": {
      "text/plain": [
       "('', '')"
      ]
     },
     "execution_count": 12,
     "metadata": {},
     "output_type": "execute_result"
    }
   ],
   "source": [
    "_d"
   ]
  },
  {
   "cell_type": "code",
   "execution_count": 15,
   "metadata": {},
   "outputs": [
    {
     "name": "stdout",
     "output_type": "stream",
     "text": [
      "True\n"
     ]
    }
   ],
   "source": [
    "if _d:\n",
    "    print(True)"
   ]
  },
  {
   "cell_type": "code",
   "execution_count": null,
   "metadata": {},
   "outputs": [],
   "source": [
    "_b = util.getSolution()"
   ]
  },
  {
   "cell_type": "code",
   "execution_count": null,
   "metadata": {},
   "outputs": [],
   "source": []
  },
  {
   "cell_type": "code",
   "execution_count": null,
   "metadata": {},
   "outputs": [],
   "source": []
  },
  {
   "cell_type": "code",
   "execution_count": null,
   "metadata": {},
   "outputs": [],
   "source": []
  },
  {
   "cell_type": "markdown",
   "metadata": {},
   "source": [
    "# Using util.getSolution and util.uniformCostSearch"
   ]
  },
  {
   "cell_type": "code",
   "execution_count": 253,
   "metadata": {},
   "outputs": [],
   "source": [
    "import sys\n",
    "sys.path.insert(0,'.')\n",
    "\n",
    "import util\n",
    "import ep1\n",
    "import unidecode"
   ]
  },
  {
   "cell_type": "code",
   "execution_count": 254,
   "metadata": {},
   "outputs": [
    {
     "name": "stdout",
     "output_type": "stream",
     "text": [
      "Training language cost functions [corpus: corpus.txt]... \n",
      "Done!\n"
     ]
    }
   ],
   "source": [
    "unigramCost, bigramCost, possibleFills  =  ep1.getRealCosts()"
   ]
  },
  {
   "cell_type": "markdown",
   "metadata": {},
   "source": [
    "## Segmentation Problem"
   ]
  },
  {
   "cell_type": "code",
   "execution_count": 82,
   "metadata": {},
   "outputs": [],
   "source": [
    "query = 'assimpleasthat'"
   ]
  },
  {
   "cell_type": "code",
   "execution_count": 83,
   "metadata": {},
   "outputs": [],
   "source": [
    "sp = ep1.SegmentationProblem(\n",
    "        query=query, \n",
    "        unigramCost=unigramCost\n",
    ")"
   ]
  },
  {
   "cell_type": "code",
   "execution_count": 84,
   "metadata": {},
   "outputs": [
    {
     "name": "stdout",
     "output_type": "stream",
     "text": [
      " NEXT STATE assimpleastha t\n",
      "assimpleastha t\n",
      "9.795867820102195\n",
      " NEXT STATE assimpleasth at\n",
      "assimpleasth at\n",
      "1.0674417283975828\n",
      " NEXT STATE assimpleast hat\n",
      "assimpleast hat\n",
      "3.719245464653902\n",
      " NEXT STATE assimpleas that\n",
      "assimpleas that\n",
      "-3.3064440101390886\n",
      " NEXT STATE assimplea sthat\n",
      "assimplea sthat\n",
      "13.304684934198285\n",
      " NEXT STATE assimple asthat\n",
      "assimple asthat\n",
      "13.304684934198285\n",
      " NEXT STATE assimpl easthat\n",
      "assimpl easthat\n",
      "13.304684934198285\n",
      " NEXT STATE assimp leasthat\n",
      "assimp leasthat\n",
      "13.304684934198285\n",
      " NEXT STATE assim pleasthat\n",
      "assim pleasthat\n",
      "13.304684934198285\n",
      " NEXT STATE assi mpleasthat\n",
      "assi mpleasthat\n",
      "15.20180491908416\n",
      " NEXT STATE ass impleasthat\n",
      "ass impleasthat\n",
      "7.611065762764532\n",
      " NEXT STATE as simpleasthat\n",
      "as simpleasthat\n",
      "1.1643940156535777\n",
      " NEXT STATE a ssimpleasthat\n",
      "a ssimpleasthat\n",
      "2.087546963792846\n",
      " NEXT STATE  assimpleasthat\n",
      " assimpleasthat\n",
      "0.0\n",
      " NEXT STATE assimplea that s\n",
      "assimplea that s\n",
      "8.840356375074762\n",
      " NEXT STATE assimple that as\n",
      "assimple that as\n",
      "1.1643940156535777\n",
      " NEXT STATE assimpl that eas\n",
      "assimpl that eas\n",
      "17.09892490397005\n",
      " NEXT STATE assimp that leas\n",
      "assimp that leas\n",
      "15.20180491908416\n",
      " NEXT STATE assim that pleas\n",
      "assim that pleas\n",
      "13.304684934198285\n",
      " NEXT STATE assi that mpleas\n",
      "assi that mpleas\n",
      "15.201804919084168\n",
      " NEXT STATE ass that impleas\n",
      "ass that impleas\n",
      "7.611065762764532\n",
      " NEXT STATE as that simpleas\n",
      "as that simpleas\n",
      "1.1643940156535777\n",
      " NEXT STATE a that ssimpleas\n",
      "a that ssimpleas\n",
      "2.087546963792846\n",
      " NEXT STATE  that assimpleas\n",
      " that assimpleas\n",
      "0.0\n",
      " GOAL STATE  that assimpleas\n"
     ]
    }
   ],
   "source": [
    "goal_sp_node = util.uniformCostSearch(sp)"
   ]
  },
  {
   "cell_type": "code",
   "execution_count": 58,
   "metadata": {},
   "outputs": [
    {
     "data": {
      "text/plain": [
       "<Node  that assimpleas>"
      ]
     },
     "execution_count": 58,
     "metadata": {},
     "output_type": "execute_result"
    }
   ],
   "source": [
    "goal_sp_node"
   ]
  },
  {
   "cell_type": "code",
   "execution_count": 63,
   "metadata": {},
   "outputs": [],
   "source": [
    "result_segment = ' '.join(reversed(goal_sp_node.state.split()))"
   ]
  },
  {
   "cell_type": "code",
   "execution_count": 64,
   "metadata": {},
   "outputs": [
    {
     "data": {
      "text/plain": [
       "'assimpleas that'"
      ]
     },
     "execution_count": 64,
     "metadata": {},
     "output_type": "execute_result"
    }
   ],
   "source": [
    "result_segment"
   ]
  },
  {
   "cell_type": "code",
   "execution_count": 65,
   "metadata": {},
   "outputs": [
    {
     "name": "stdout",
     "output_type": "stream",
     "text": [
      " GOAL STATE  that assimpleas\n",
      " NEXT STATE  that assimpleas\n",
      " NEXT STATE assimpleas that\n"
     ]
    },
    {
     "data": {
      "text/plain": [
       "(True, 'assimpleas that  that assimpleas')"
      ]
     },
     "execution_count": 65,
     "metadata": {},
     "output_type": "execute_result"
    }
   ],
   "source": [
    "util.getSolution(\n",
    "    node=goal_sp_node, \n",
    "    problem=sp\n",
    ")"
   ]
  },
  {
   "cell_type": "markdown",
   "metadata": {},
   "source": [
    "## Vowel Insertion Problem"
   ]
  },
  {
   "cell_type": "code",
   "execution_count": 255,
   "metadata": {},
   "outputs": [],
   "source": [
    "queryWords = 'm p'"
   ]
  },
  {
   "cell_type": "code",
   "execution_count": 256,
   "metadata": {},
   "outputs": [],
   "source": [
    "vip = ep1.VowelInsertionProblem(\n",
    "        queryWords=queryWords, \n",
    "        bigramCost=bigramCost, \n",
    "        possibleFills=possibleFills\n",
    ")"
   ]
  },
  {
   "cell_type": "code",
   "execution_count": 257,
   "metadata": {},
   "outputs": [],
   "source": [
    "goal_vowel_node = util.uniformCostSearch(vip)"
   ]
  },
  {
   "cell_type": "code",
   "execution_count": 258,
   "metadata": {},
   "outputs": [],
   "source": [
    "result_insert = goal_vowel_node.state[1].split()\n",
    "result_insert = ' '.join(result_insert)"
   ]
  },
  {
   "cell_type": "code",
   "execution_count": 259,
   "metadata": {},
   "outputs": [
    {
     "data": {
      "text/plain": [
       "'me up'"
      ]
     },
     "execution_count": 259,
     "metadata": {},
     "output_type": "execute_result"
    }
   ],
   "source": [
    "result_insert"
   ]
  },
  {
   "cell_type": "code",
   "execution_count": 260,
   "metadata": {},
   "outputs": [
    {
     "data": {
      "text/plain": [
       "<Node ('', ' me up')>"
      ]
     },
     "execution_count": 260,
     "metadata": {},
     "output_type": "execute_result"
    }
   ],
   "source": [
    "goal_vowel_node"
   ]
  },
  {
   "cell_type": "code",
   "execution_count": 261,
   "metadata": {},
   "outputs": [
    {
     "data": {
      "text/plain": [
       "('me', 'up')"
      ]
     },
     "execution_count": 261,
     "metadata": {},
     "output_type": "execute_result"
    }
   ],
   "source": [
    "goal_vowel_node.action"
   ]
  },
  {
   "cell_type": "code",
   "execution_count": 262,
   "metadata": {},
   "outputs": [
    {
     "ename": "TypeError",
     "evalue": "sequence item 0: expected str instance, tuple found",
     "output_type": "error",
     "traceback": [
      "\u001b[1;31m---------------------------------------------------------------------------\u001b[0m",
      "\u001b[1;31mTypeError\u001b[0m                                 Traceback (most recent call last)",
      "\u001b[1;32m<ipython-input-262-b712da3ca7f0>\u001b[0m in \u001b[0;36m<module>\u001b[1;34m\u001b[0m\n\u001b[0;32m      1\u001b[0m util.getSolution(\n\u001b[0;32m      2\u001b[0m     \u001b[0mnode\u001b[0m\u001b[1;33m=\u001b[0m\u001b[0mgoal_vowel_node\u001b[0m\u001b[1;33m,\u001b[0m\u001b[1;33m\u001b[0m\u001b[1;33m\u001b[0m\u001b[0m\n\u001b[1;32m----> 3\u001b[1;33m     \u001b[0mproblem\u001b[0m\u001b[1;33m=\u001b[0m\u001b[0mvip\u001b[0m\u001b[1;33m\u001b[0m\u001b[1;33m\u001b[0m\u001b[0m\n\u001b[0m\u001b[0;32m      4\u001b[0m )\n",
      "\u001b[1;32m~\\Documents\\Repositórios\\Pessoal\\USP\\mac5739\\EP 1\\util.py\u001b[0m in \u001b[0;36mgetSolution\u001b[1;34m(node, problem)\u001b[0m\n\u001b[0;32m    165\u001b[0m     \u001b[1;32mif\u001b[0m \u001b[0mnode\u001b[0m \u001b[1;32mis\u001b[0m \u001b[1;32mnot\u001b[0m \u001b[1;32mNone\u001b[0m \u001b[1;32mand\u001b[0m \u001b[0mnode\u001b[0m\u001b[1;33m.\u001b[0m\u001b[0maction\u001b[0m \u001b[1;32mis\u001b[0m \u001b[1;32mnot\u001b[0m \u001b[1;32mNone\u001b[0m \u001b[1;33m:\u001b[0m\u001b[1;33m\u001b[0m\u001b[1;33m\u001b[0m\u001b[0m\n\u001b[0;32m    166\u001b[0m         \u001b[0mprint\u001b[0m\u001b[1;33m(\u001b[0m\u001b[1;34mf'STEPS {node.action}'\u001b[0m\u001b[1;33m)\u001b[0m\u001b[1;33m\u001b[0m\u001b[1;33m\u001b[0m\u001b[0m\n\u001b[1;32m--> 167\u001b[1;33m         \u001b[0msteps\u001b[0m\u001b[1;33m.\u001b[0m\u001b[0mappend\u001b[0m\u001b[1;33m(\u001b[0m\u001b[0mnode\u001b[0m\u001b[1;33m.\u001b[0m\u001b[0maction\u001b[0m\u001b[1;33m)\u001b[0m\u001b[1;33m\u001b[0m\u001b[1;33m\u001b[0m\u001b[0m\n\u001b[0m\u001b[0;32m    168\u001b[0m \u001b[1;33m\u001b[0m\u001b[0m\n\u001b[0;32m    169\u001b[0m     \u001b[1;32mreturn\u001b[0m \u001b[1;33m(\u001b[0m\u001b[1;32mTrue\u001b[0m\u001b[1;33m,\u001b[0m  \u001b[1;34m' '\u001b[0m\u001b[1;33m.\u001b[0m\u001b[0mjoin\u001b[0m\u001b[1;33m(\u001b[0m\u001b[0mlist\u001b[0m\u001b[1;33m(\u001b[0m\u001b[0mreversed\u001b[0m\u001b[1;33m(\u001b[0m\u001b[0msteps\u001b[0m\u001b[1;33m)\u001b[0m\u001b[1;33m)\u001b[0m\u001b[1;33m)\u001b[0m\u001b[1;33m)\u001b[0m\u001b[1;33m\u001b[0m\u001b[1;33m\u001b[0m\u001b[0m\n",
      "\u001b[1;31mTypeError\u001b[0m: sequence item 0: expected str instance, tuple found"
     ]
    }
   ],
   "source": [
    "util.getSolution(\n",
    "    node=goal_vowel_node, \n",
    "    problem=vip\n",
    ")"
   ]
  },
  {
   "cell_type": "code",
   "execution_count": 264,
   "metadata": {},
   "outputs": [
    {
     "data": {
      "text/plain": [
       "<Node ('', ' me up')>"
      ]
     },
     "execution_count": 264,
     "metadata": {},
     "output_type": "execute_result"
    }
   ],
   "source": [
    "goal_vowel_node"
   ]
  },
  {
   "cell_type": "code",
   "execution_count": null,
   "metadata": {},
   "outputs": [],
   "source": []
  },
  {
   "cell_type": "code",
   "execution_count": null,
   "metadata": {},
   "outputs": [],
   "source": []
  },
  {
   "cell_type": "code",
   "execution_count": null,
   "metadata": {},
   "outputs": [],
   "source": []
  },
  {
   "cell_type": "code",
   "execution_count": null,
   "metadata": {},
   "outputs": [],
   "source": []
  },
  {
   "cell_type": "code",
   "execution_count": 198,
   "metadata": {},
   "outputs": [
    {
     "data": {
      "text/plain": [
       "'tahtsaelpmissa'"
      ]
     },
     "execution_count": 198,
     "metadata": {},
     "output_type": "execute_result"
    }
   ],
   "source": [
    "state[::-1]"
   ]
  },
  {
   "cell_type": "code",
   "execution_count": 222,
   "metadata": {},
   "outputs": [],
   "source": [
    "state = 'assimpleasthat'"
   ]
  },
  {
   "cell_type": "code",
   "execution_count": 239,
   "metadata": {},
   "outputs": [],
   "source": [
    "state = 'believeinyourselfhavefaithinyourabilities'[::-1]\n",
    "initial_state = state.split()\n",
    "word = initial_state[0]\n",
    "actions = []\n",
    "\n",
    "for index in range(0, len(word)):\n",
    "    action = initial_state.copy()\n",
    "    left_word = word[index+1: ]\n",
    "    right_word = word[:index+1]\n",
    "    \n",
    "    action[0] = left_word\n",
    "    action.append(right_word[::-1])\n",
    "    actions.append(' '.join(action))"
   ]
  },
  {
   "cell_type": "code",
   "execution_count": 240,
   "metadata": {},
   "outputs": [
    {
     "data": {
      "text/plain": [
       "'seitilibaruoynihtiafevahflesruoynieveileb'"
      ]
     },
     "execution_count": 240,
     "metadata": {},
     "output_type": "execute_result"
    }
   ],
   "source": [
    "state"
   ]
  },
  {
   "cell_type": "code",
   "execution_count": 241,
   "metadata": {},
   "outputs": [
    {
     "data": {
      "text/plain": [
       "['eitilibaruoynihtiafevahflesruoynieveileb s',\n",
       " 'itilibaruoynihtiafevahflesruoynieveileb es',\n",
       " 'tilibaruoynihtiafevahflesruoynieveileb ies',\n",
       " 'ilibaruoynihtiafevahflesruoynieveileb ties',\n",
       " 'libaruoynihtiafevahflesruoynieveileb ities',\n",
       " 'ibaruoynihtiafevahflesruoynieveileb lities',\n",
       " 'baruoynihtiafevahflesruoynieveileb ilities',\n",
       " 'aruoynihtiafevahflesruoynieveileb bilities',\n",
       " 'ruoynihtiafevahflesruoynieveileb abilities',\n",
       " 'uoynihtiafevahflesruoynieveileb rabilities',\n",
       " 'oynihtiafevahflesruoynieveileb urabilities',\n",
       " 'ynihtiafevahflesruoynieveileb ourabilities',\n",
       " 'nihtiafevahflesruoynieveileb yourabilities',\n",
       " 'ihtiafevahflesruoynieveileb nyourabilities',\n",
       " 'htiafevahflesruoynieveileb inyourabilities',\n",
       " 'tiafevahflesruoynieveileb hinyourabilities',\n",
       " 'iafevahflesruoynieveileb thinyourabilities',\n",
       " 'afevahflesruoynieveileb ithinyourabilities',\n",
       " 'fevahflesruoynieveileb aithinyourabilities',\n",
       " 'evahflesruoynieveileb faithinyourabilities',\n",
       " 'vahflesruoynieveileb efaithinyourabilities',\n",
       " 'ahflesruoynieveileb vefaithinyourabilities',\n",
       " 'hflesruoynieveileb avefaithinyourabilities',\n",
       " 'flesruoynieveileb havefaithinyourabilities',\n",
       " 'lesruoynieveileb fhavefaithinyourabilities',\n",
       " 'esruoynieveileb lfhavefaithinyourabilities',\n",
       " 'sruoynieveileb elfhavefaithinyourabilities',\n",
       " 'ruoynieveileb selfhavefaithinyourabilities',\n",
       " 'uoynieveileb rselfhavefaithinyourabilities',\n",
       " 'oynieveileb urselfhavefaithinyourabilities',\n",
       " 'ynieveileb ourselfhavefaithinyourabilities',\n",
       " 'nieveileb yourselfhavefaithinyourabilities',\n",
       " 'ieveileb nyourselfhavefaithinyourabilities',\n",
       " 'eveileb inyourselfhavefaithinyourabilities',\n",
       " 'veileb einyourselfhavefaithinyourabilities',\n",
       " 'eileb veinyourselfhavefaithinyourabilities',\n",
       " 'ileb eveinyourselfhavefaithinyourabilities',\n",
       " 'leb ieveinyourselfhavefaithinyourabilities',\n",
       " 'eb lieveinyourselfhavefaithinyourabilities',\n",
       " 'b elieveinyourselfhavefaithinyourabilities',\n",
       " ' believeinyourselfhavefaithinyourabilities']"
      ]
     },
     "execution_count": 241,
     "metadata": {},
     "output_type": "execute_result"
    }
   ],
   "source": [
    "actions = actions\n",
    "actions"
   ]
  },
  {
   "cell_type": "code",
   "execution_count": 242,
   "metadata": {},
   "outputs": [
    {
     "name": "stdout",
     "output_type": "stream",
     "text": [
      "ACTION COST 99.92696068959417\n",
      "ACTION COST 99.49617777350171\n",
      "ACTION COST 108.18552921848945\n",
      "ACTION COST 95.70193780372995\n",
      "ACTION COST 104.3912892487177\n",
      "ACTION COST 104.3912892487177\n",
      "ACTION COST 104.3912892487177\n",
      "ACTION COST 104.3912892487177\n",
      "ACTION COST 104.3912892487177\n",
      "ACTION COST 104.3912892487177\n",
      "ACTION COST 104.3912892487177\n",
      "ACTION COST 104.3912892487177\n",
      "ACTION COST 104.3912892487177\n",
      "ACTION COST 104.3912892487177\n",
      "ACTION COST 104.3912892487177\n",
      "ACTION COST 104.3912892487177\n",
      "ACTION COST 104.3912892487177\n",
      "ACTION COST 104.3912892487177\n",
      "ACTION COST 104.3912892487177\n",
      "ACTION COST 104.3912892487177\n",
      "ACTION COST 104.3912892487177\n",
      "ACTION COST 104.3912892487177\n",
      "ACTION COST 104.3912892487177\n",
      "ACTION COST 104.3912892487177\n",
      "ACTION COST 104.3912892487177\n",
      "ACTION COST 104.3912892487177\n",
      "ACTION COST 104.3912892487177\n",
      "ACTION COST 104.3912892487177\n",
      "ACTION COST 104.3912892487177\n",
      "ACTION COST 104.3912892487177\n",
      "ACTION COST 104.3912892487177\n",
      "ACTION COST 104.3912892487177\n",
      "ACTION COST 104.3912892487177\n",
      "ACTION COST 104.3912892487177\n",
      "ACTION COST 104.3912892487177\n",
      "ACTION COST 104.3912892487177\n",
      "ACTION COST 106.28840923360357\n",
      "ACTION COST 108.18552921848945\n",
      "ACTION COST 110.08264920337534\n",
      "ACTION COST 99.85285271744044\n",
      "ACTION COST 91.0866043145194\n"
     ]
    }
   ],
   "source": [
    "costs = []\n",
    "for action in actions:\n",
    "    state_cost = sum([unigramCost(x) for x in state.split()])\n",
    "    #print(f' STATE COST {state_cost}')\n",
    "    action_cost = sum([unigramCost(x) for x in action.split()])\n",
    "    print(f'ACTION COST {action_cost}')\n",
    "    \n",
    "    cost = action_cost# - state_cost\n",
    "    costs.append(cost)"
   ]
  },
  {
   "cell_type": "code",
   "execution_count": 193,
   "metadata": {},
   "outputs": [
    {
     "data": {
      "text/plain": [
       "[2.9381434747256066,\n",
       " 0.35823252568931707,\n",
       " 17.098924903970044,\n",
       " 15.201804919084154,\n",
       " 13.304684934198278,\n",
       " 13.304684934198278,\n",
       " 13.304684934198278,\n",
       " 13.304684934198292,\n",
       " 13.304684934198278,\n",
       " 13.304684934198278,\n",
       " 4.615333489210542,\n",
       " 17.098924903970058,\n",
       " 8.409573458982308,\n",
       " 8.840356375074762,\n",
       " 0.0]"
      ]
     },
     "execution_count": 193,
     "metadata": {},
     "output_type": "execute_result"
    }
   ],
   "source": [
    "costs"
   ]
  },
  {
   "cell_type": "code",
   "execution_count": 168,
   "metadata": {},
   "outputs": [
    {
     "data": {
      "text/plain": [
       "'bilities believe in yourself have faith in your a'"
      ]
     },
     "execution_count": 168,
     "metadata": {},
     "output_type": "execute_result"
    }
   ],
   "source": [
    "actions[costs.index(min(costs))]"
   ]
  },
  {
   "cell_type": "code",
   "execution_count": 24,
   "metadata": {},
   "outputs": [],
   "source": [
    "state_costs = []\n",
    "for action in possible_actions:\n",
    "    cost = sum([unigramCost(x) for x in state.split()])\n",
    "    state_costs.append(cost)"
   ]
  },
  {
   "cell_type": "code",
   "execution_count": 25,
   "metadata": {},
   "outputs": [
    {
     "data": {
      "text/plain": [
       "[35.73198136178309,\n",
       " 35.73198136178309,\n",
       " 35.73198136178309,\n",
       " 35.73198136178309,\n",
       " 35.73198136178309,\n",
       " 35.73198136178309,\n",
       " 35.73198136178309,\n",
       " 35.73198136178309]"
      ]
     },
     "execution_count": 25,
     "metadata": {},
     "output_type": "execute_result"
    }
   ],
   "source": [
    "state_costs"
   ]
  },
  {
   "cell_type": "code",
   "execution_count": 91,
   "metadata": {},
   "outputs": [],
   "source": [
    "state = ' house my is this'"
   ]
  },
  {
   "cell_type": "code",
   "execution_count": 42,
   "metadata": {},
   "outputs": [
    {
     "data": {
      "text/plain": [
       "'believeinyourselfhavefaithinyourabilities'"
      ]
     },
     "execution_count": 42,
     "metadata": {},
     "output_type": "execute_result"
    }
   ],
   "source": [
    "''.join(reversed(' inyourselfhavefaithinyourabilities believe'.split()))"
   ]
  },
  {
   "cell_type": "code",
   "execution_count": 95,
   "metadata": {},
   "outputs": [
    {
     "data": {
      "text/plain": [
       "' '"
      ]
     },
     "execution_count": 95,
     "metadata": {},
     "output_type": "execute_result"
    }
   ],
   "source": [
    "state[0]"
   ]
  },
  {
   "cell_type": "code",
   "execution_count": 3,
   "metadata": {},
   "outputs": [],
   "source": [
    "query = 'thisismyhouse'"
   ]
  },
  {
   "cell_type": "code",
   "execution_count": 4,
   "metadata": {},
   "outputs": [],
   "source": [
    "sp = ep1.SegmentationProblem(\n",
    "                                query=query, \n",
    "                                unigramCost=unigramCost\n",
    "                                )\n",
    "\n",
    "goal_sp_node = util.uniformCostSearch(sp)"
   ]
  },
  {
   "cell_type": "code",
   "execution_count": 6,
   "metadata": {},
   "outputs": [],
   "source": [
    "goal_sp_node"
   ]
  },
  {
   "cell_type": "code",
   "execution_count": 7,
   "metadata": {},
   "outputs": [
    {
     "name": "stdout",
     "output_type": "stream",
     "text": [
      "None\n"
     ]
    }
   ],
   "source": [
    "print(goal_sp_node)"
   ]
  },
  {
   "cell_type": "code",
   "execution_count": 190,
   "metadata": {},
   "outputs": [
    {
     "data": {
      "text/plain": [
       "['faith', 'have', 'yourself', 'in', 'believe', 'inyourabilities']"
      ]
     },
     "execution_count": 190,
     "metadata": {},
     "output_type": "execute_result"
    }
   ],
   "source": [
    "'inyourabilities believe in yourself have faith'.split()[::-1]"
   ]
  },
  {
   "cell_type": "code",
   "execution_count": 191,
   "metadata": {},
   "outputs": [
    {
     "data": {
      "text/plain": [
       "['inyourabilities', 'faith', 'have', 'yourself', 'in', 'believe']"
      ]
     },
     "execution_count": 191,
     "metadata": {},
     "output_type": "execute_result"
    }
   ],
   "source": [
    "' believe in yourself have faith inyourabilities'.split()[::-1]"
   ]
  },
  {
   "cell_type": "code",
   "execution_count": null,
   "metadata": {},
   "outputs": [],
   "source": []
  },
  {
   "cell_type": "code",
   "execution_count": null,
   "metadata": {},
   "outputs": [],
   "source": []
  },
  {
   "cell_type": "code",
   "execution_count": null,
   "metadata": {},
   "outputs": [],
   "source": []
  },
  {
   "cell_type": "code",
   "execution_count": null,
   "metadata": {},
   "outputs": [],
   "source": []
  },
  {
   "cell_type": "code",
   "execution_count": 63,
   "metadata": {},
   "outputs": [
    {
     "data": {
      "text/plain": [
       "104.36644420872058"
      ]
     },
     "execution_count": 63,
     "metadata": {},
     "output_type": "execute_result"
    }
   ],
   "source": [
    "unigramCost('-BEGIN-believeinyourselfhavefaithinyourabilities')"
   ]
  },
  {
   "cell_type": "code",
   "execution_count": 69,
   "metadata": {},
   "outputs": [
    {
     "data": {
      "text/plain": [
       "103.26682982574901"
      ]
     },
     "execution_count": 69,
     "metadata": {},
     "output_type": "execute_result"
    }
   ],
   "source": [
    "sum([unigramCost(x) for x in 'believeinyourselfhavefaithin abilities your'.split()])"
   ]
  },
  {
   "cell_type": "code",
   "execution_count": 70,
   "metadata": {},
   "outputs": [
    {
     "data": {
      "text/plain": [
       "86.61539239951013"
      ]
     },
     "execution_count": 70,
     "metadata": {},
     "output_type": "execute_result"
    }
   ],
   "source": [
    "sum([unigramCost(x) for x in 'yourselfhavefaithinyourabilities believe in'.split()])"
   ]
  },
  {
   "cell_type": "code",
   "execution_count": 78,
   "metadata": {},
   "outputs": [
    {
     "data": {
      "text/plain": [
       "'believeinyourselfhavefaithinyourabilities'"
      ]
     },
     "execution_count": 78,
     "metadata": {},
     "output_type": "execute_result"
    }
   ],
   "source": [
    "''.join('believe in yourself have faith in your abilities'.split())"
   ]
  },
  {
   "cell_type": "code",
   "execution_count": 27,
   "metadata": {},
   "outputs": [
    {
     "data": {
      "text/plain": [
       "30.37876479817122"
      ]
     },
     "execution_count": 27,
     "metadata": {},
     "output_type": "execute_result"
    }
   ],
   "source": [
    "unigramCost('abilities')"
   ]
  },
  {
   "cell_type": "code",
   "execution_count": 28,
   "metadata": {},
   "outputs": [
    {
     "data": {
      "text/plain": [
       "8.450395453502558"
      ]
     },
     "execution_count": 28,
     "metadata": {},
     "output_type": "execute_result"
    }
   ],
   "source": [
    "unigramCost('believe')"
   ]
  },
  {
   "cell_type": "code",
   "execution_count": null,
   "metadata": {},
   "outputs": [],
   "source": []
  }
 ],
 "metadata": {
  "kernelspec": {
   "display_name": "Python 3",
   "language": "python",
   "name": "python3"
  },
  "language_info": {
   "codemirror_mode": {
    "name": "ipython",
    "version": 3
   },
   "file_extension": ".py",
   "mimetype": "text/x-python",
   "name": "python",
   "nbconvert_exporter": "python",
   "pygments_lexer": "ipython3",
   "version": "3.7.4"
  }
 },
 "nbformat": 4,
 "nbformat_minor": 2
}
