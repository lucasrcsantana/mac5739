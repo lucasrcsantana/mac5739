{
 "cells": [
  {
   "cell_type": "code",
   "execution_count": 1,
   "metadata": {},
   "outputs": [],
   "source": [
    "query = 'believeinyourselfhavefaithinyourabilities'"
   ]
  },
  {
   "cell_type": "code",
   "execution_count": 25,
   "metadata": {},
   "outputs": [],
   "source": [
    "initial_state = ([query], [''])"
   ]
  },
  {
   "cell_type": "code",
   "execution_count": 27,
   "metadata": {},
   "outputs": [
    {
     "data": {
      "text/plain": [
       "(['believeinyourselfhavefaithinyourabilities'], [''])"
      ]
     },
     "execution_count": 27,
     "metadata": {},
     "output_type": "execute_result"
    }
   ],
   "source": [
    "initial_state"
   ]
  },
  {
   "cell_type": "code",
   "execution_count": 30,
   "metadata": {},
   "outputs": [
    {
     "data": {
      "text/plain": [
       "41"
      ]
     },
     "execution_count": 30,
     "metadata": {},
     "output_type": "execute_result"
    }
   ],
   "source": [
    "len(initial_state[0][0])"
   ]
  },
  {
   "cell_type": "code",
   "execution_count": 63,
   "metadata": {},
   "outputs": [],
   "source": [
    "left_word = []\n",
    "right_word = []"
   ]
  },
  {
   "cell_type": "code",
   "execution_count": 65,
   "metadata": {},
   "outputs": [],
   "source": [
    "for i in range(0, len(query)):\n",
    "    left_word.append(query[:i+1])\n",
    "    right_word.append(query[i+1:])"
   ]
  },
  {
   "cell_type": "code",
   "execution_count": 77,
   "metadata": {},
   "outputs": [
    {
     "name": "stdout",
     "output_type": "stream",
     "text": [
      "Palavra: b - Custo 10.663368387806916\n",
      "Palavra: be - Custo 5.403272234079077\n",
      "Palavra: bel - Custo 22.79028485862769\n",
      "Palavra: beli - Custo 22.79028485862769\n",
      "Palavra: belie - Custo 22.79028485862769\n",
      "Palavra: believ - Custo 24.68740484351357\n",
      "Palavra: believe - Custo 8.450395453502558\n",
      "Palavra: believei - Custo 28.481644813285335\n",
      "Palavra: believein - Custo 30.37876479817122\n",
      "Palavra: believeiny - Custo 32.275884783057094\n",
      "Palavra: believeinyo - Custo 34.17300476794298\n",
      "Palavra: believeinyou - Custo 36.07012475282886\n",
      "Palavra: believeinyour - Custo 37.96724473771474\n",
      "Palavra: believeinyours - Custo 39.86436472260062\n",
      "Palavra: believeinyourse - Custo 41.7614847074865\n",
      "Palavra: believeinyoursel - Custo 43.658604692372386\n",
      "Palavra: believeinyourself - Custo 45.55572467725827\n",
      "Palavra: believeinyourselfh - Custo 47.45284466214415\n",
      "Palavra: believeinyourselfha - Custo 49.34996464703003\n",
      "Palavra: believeinyourselfhav - Custo 51.24708463191591\n",
      "Palavra: believeinyourselfhave - Custo 53.144204616801794\n",
      "Palavra: believeinyourselfhavef - Custo 55.04132460168767\n",
      "Palavra: believeinyourselfhavefa - Custo 56.93844458657355\n",
      "Palavra: believeinyourselfhavefai - Custo 58.835564571459436\n",
      "Palavra: believeinyourselfhavefait - Custo 60.73268455634532\n",
      "Palavra: believeinyourselfhavefaith - Custo 62.6298045412312\n",
      "Palavra: believeinyourselfhavefaithi - Custo 64.52692452611707\n",
      "Palavra: believeinyourselfhavefaithin - Custo 66.42404451100296\n",
      "Palavra: believeinyourselfhavefaithiny - Custo 68.32116449588884\n",
      "Palavra: believeinyourselfhavefaithinyo - Custo 70.21828448077471\n",
      "Palavra: believeinyourselfhavefaithinyou - Custo 72.1154044656606\n",
      "Palavra: believeinyourselfhavefaithinyour - Custo 74.01252445054648\n",
      "Palavra: believeinyourselfhavefaithinyoura - Custo 75.90964443543237\n",
      "Palavra: believeinyourselfhavefaithinyourab - Custo 77.80676442031825\n",
      "Palavra: believeinyourselfhavefaithinyourabi - Custo 79.70388440520412\n",
      "Palavra: believeinyourselfhavefaithinyourabil - Custo 81.60100439009001\n",
      "Palavra: believeinyourselfhavefaithinyourabili - Custo 83.49812437497589\n",
      "Palavra: believeinyourselfhavefaithinyourabilit - Custo 85.39524435986176\n",
      "Palavra: believeinyourselfhavefaithinyourabiliti - Custo 87.29236434474765\n",
      "Palavra: believeinyourselfhavefaithinyourabilitie - Custo 89.18948432963353\n",
      "Palavra: believeinyourselfhavefaithinyourabilities - Custo 91.0866043145194\n"
     ]
    }
   ],
   "source": [
    "for x, y in zip(left_word, left_word_costs):\n",
    "    print(f'Palavra: {x} - Custo {y}')"
   ]
  },
  {
   "cell_type": "code",
   "execution_count": 79,
   "metadata": {},
   "outputs": [
    {
     "name": "stdout",
     "output_type": "stream",
     "text": [
      "Palavra: elieveinyourselfhavefaithinyourabilities - Custo 89.18948432963353\n",
      "Palavra: lieveinyourselfhavefaithinyourabilities - Custo 87.29236434474765\n",
      "Palavra: ieveinyourselfhavefaithinyourabilities - Custo 85.39524435986176\n",
      "Palavra: eveinyourselfhavefaithinyourabilities - Custo 83.49812437497589\n",
      "Palavra: veinyourselfhavefaithinyourabilities - Custo 81.60100439009001\n",
      "Palavra: einyourselfhavefaithinyourabilities - Custo 79.70388440520412\n",
      "Palavra: inyourselfhavefaithinyourabilities - Custo 77.80676442031825\n",
      "Palavra: nyourselfhavefaithinyourabilities - Custo 75.90964443543237\n",
      "Palavra: yourselfhavefaithinyourabilities - Custo 74.01252445054648\n",
      "Palavra: ourselfhavefaithinyourabilities - Custo 72.1154044656606\n",
      "Palavra: urselfhavefaithinyourabilities - Custo 70.21828448077471\n",
      "Palavra: rselfhavefaithinyourabilities - Custo 68.32116449588884\n",
      "Palavra: selfhavefaithinyourabilities - Custo 66.42404451100296\n",
      "Palavra: elfhavefaithinyourabilities - Custo 64.52692452611707\n",
      "Palavra: lfhavefaithinyourabilities - Custo 62.6298045412312\n",
      "Palavra: fhavefaithinyourabilities - Custo 60.73268455634532\n",
      "Palavra: havefaithinyourabilities - Custo 58.835564571459436\n",
      "Palavra: avefaithinyourabilities - Custo 56.93844458657355\n",
      "Palavra: vefaithinyourabilities - Custo 55.04132460168767\n",
      "Palavra: efaithinyourabilities - Custo 53.144204616801794\n",
      "Palavra: faithinyourabilities - Custo 51.24708463191591\n",
      "Palavra: aithinyourabilities - Custo 49.34996464703003\n",
      "Palavra: ithinyourabilities - Custo 47.45284466214415\n",
      "Palavra: thinyourabilities - Custo 45.55572467725827\n",
      "Palavra: hinyourabilities - Custo 43.658604692372386\n",
      "Palavra: inyourabilities - Custo 41.7614847074865\n",
      "Palavra: nyourabilities - Custo 39.86436472260062\n",
      "Palavra: yourabilities - Custo 37.96724473771474\n",
      "Palavra: ourabilities - Custo 36.07012475282886\n",
      "Palavra: urabilities - Custo 34.17300476794298\n",
      "Palavra: rabilities - Custo 32.275884783057094\n",
      "Palavra: abilities - Custo 30.37876479817122\n",
      "Palavra: bilities - Custo 28.481644813285335\n",
      "Palavra: ilities - Custo 26.584524828399452\n",
      "Palavra: lities - Custo 24.68740484351357\n",
      "Palavra: ities - Custo 22.79028485862769\n",
      "Palavra: ties - Custo 12.203813428754065\n",
      "Palavra: ies - Custo 22.79028485862769\n",
      "Palavra: es - Custo 12.203813428754065\n",
      "Palavra: s - Custo 10.737476359960638\n",
      "Palavra:  - Custo 22.79028485862769\n"
     ]
    }
   ],
   "source": [
    "for x, y in zip(right_word, right_word_costs):\n",
    "    print(f'Palavra: {x} - Custo {y}')"
   ]
  },
  {
   "cell_type": "code",
   "execution_count": 85,
   "metadata": {},
   "outputs": [
    {
     "data": {
      "text/plain": [
       "'be'"
      ]
     },
     "execution_count": 85,
     "metadata": {},
     "output_type": "execute_result"
    }
   ],
   "source": [
    "left_word[costs.index(min(costs))]"
   ]
  },
  {
   "cell_type": "code",
   "execution_count": 71,
   "metadata": {},
   "outputs": [
    {
     "data": {
      "text/plain": [
       "'bel'"
      ]
     },
     "execution_count": 71,
     "metadata": {},
     "output_type": "execute_result"
    }
   ],
   "source": [
    "states[costs.index(min(costs)) + 1]"
   ]
  },
  {
   "cell_type": "code",
   "execution_count": 72,
   "metadata": {},
   "outputs": [
    {
     "data": {
      "text/plain": [
       "'lieveinyourselfhavefaithinyourabilities'"
      ]
     },
     "execution_count": 72,
     "metadata": {},
     "output_type": "execute_result"
    }
   ],
   "source": [
    "query[1 + 1:]"
   ]
  },
  {
   "cell_type": "code",
   "execution_count": 80,
   "metadata": {},
   "outputs": [
    {
     "data": {
      "text/plain": [
       "[10.663368387806916,\n",
       " 5.403272234079077,\n",
       " 22.79028485862769,\n",
       " 22.79028485862769,\n",
       " 22.79028485862769,\n",
       " 24.68740484351357,\n",
       " 8.450395453502558,\n",
       " 28.481644813285335,\n",
       " 30.37876479817122,\n",
       " 32.275884783057094,\n",
       " 34.17300476794298,\n",
       " 36.07012475282886,\n",
       " 37.96724473771474,\n",
       " 39.86436472260062,\n",
       " 41.7614847074865,\n",
       " 43.658604692372386,\n",
       " 45.55572467725827,\n",
       " 47.45284466214415,\n",
       " 49.34996464703003,\n",
       " 51.24708463191591,\n",
       " 53.144204616801794,\n",
       " 55.04132460168767,\n",
       " 56.93844458657355,\n",
       " 58.835564571459436,\n",
       " 60.73268455634532,\n",
       " 62.6298045412312,\n",
       " 64.52692452611707,\n",
       " 66.42404451100296,\n",
       " 68.32116449588884,\n",
       " 70.21828448077471,\n",
       " 72.1154044656606,\n",
       " 74.01252445054648,\n",
       " 75.90964443543237,\n",
       " 77.80676442031825,\n",
       " 79.70388440520412,\n",
       " 81.60100439009001,\n",
       " 83.49812437497589,\n",
       " 85.39524435986176,\n",
       " 87.29236434474765,\n",
       " 89.18948432963353,\n",
       " 91.0866043145194,\n",
       " 89.18948432963353,\n",
       " 87.29236434474765,\n",
       " 85.39524435986176,\n",
       " 83.49812437497589,\n",
       " 81.60100439009001,\n",
       " 79.70388440520412,\n",
       " 77.80676442031825,\n",
       " 75.90964443543237,\n",
       " 74.01252445054648,\n",
       " 72.1154044656606,\n",
       " 70.21828448077471,\n",
       " 68.32116449588884,\n",
       " 66.42404451100296,\n",
       " 64.52692452611707,\n",
       " 62.6298045412312,\n",
       " 60.73268455634532,\n",
       " 58.835564571459436,\n",
       " 56.93844458657355,\n",
       " 55.04132460168767,\n",
       " 53.144204616801794,\n",
       " 51.24708463191591,\n",
       " 49.34996464703003,\n",
       " 47.45284466214415,\n",
       " 45.55572467725827,\n",
       " 43.658604692372386,\n",
       " 41.7614847074865,\n",
       " 39.86436472260062,\n",
       " 37.96724473771474,\n",
       " 36.07012475282886,\n",
       " 34.17300476794298,\n",
       " 32.275884783057094,\n",
       " 30.37876479817122,\n",
       " 28.481644813285335,\n",
       " 26.584524828399452,\n",
       " 24.68740484351357,\n",
       " 22.79028485862769,\n",
       " 12.203813428754065,\n",
       " 22.79028485862769,\n",
       " 12.203813428754065,\n",
       " 10.737476359960638,\n",
       " 22.79028485862769]"
      ]
     },
     "execution_count": 80,
     "metadata": {},
     "output_type": "execute_result"
    }
   ],
   "source": [
    "left_word_costs + right_word_costs"
   ]
  },
  {
   "cell_type": "code",
   "execution_count": 82,
   "metadata": {},
   "outputs": [],
   "source": [
    "total_costs = [x + y for x,y in zip(left_word_costs, right_word_costs)]"
   ]
  },
  {
   "cell_type": "code",
   "execution_count": 33,
   "metadata": {},
   "outputs": [],
   "source": [
    "total_costs =  [41.951911686393466, 41.0287587382542, 47.47543048536515, 55.06616964168478, 53.169049656798904, 53.169049656798904, 53.169049656798904, 53.169049656798904, 53.169049656798904, 36.55792071246153, 43.58361018725452, 40.9318064509982, 49.660232542702815, 62.65464958122831]"
   ]
  },
  {
   "cell_type": "code",
   "execution_count": 34,
   "metadata": {},
   "outputs": [
    {
     "data": {
      "text/plain": [
       "[41.951911686393466,\n",
       " 41.0287587382542,\n",
       " 47.47543048536515,\n",
       " 55.06616964168478,\n",
       " 53.169049656798904,\n",
       " 53.169049656798904,\n",
       " 53.169049656798904,\n",
       " 53.169049656798904,\n",
       " 53.169049656798904,\n",
       " 36.55792071246153,\n",
       " 43.58361018725452,\n",
       " 40.9318064509982,\n",
       " 49.660232542702815,\n",
       " 62.65464958122831]"
      ]
     },
     "execution_count": 34,
     "metadata": {},
     "output_type": "execute_result"
    }
   ],
   "source": [
    "total_costs"
   ]
  },
  {
   "cell_type": "code",
   "execution_count": 35,
   "metadata": {},
   "outputs": [
    {
     "data": {
      "text/plain": [
       "9"
      ]
     },
     "execution_count": 35,
     "metadata": {},
     "output_type": "execute_result"
    }
   ],
   "source": [
    "total_costs.index(min(total_costs))"
   ]
  },
  {
   "cell_type": "code",
   "execution_count": 36,
   "metadata": {},
   "outputs": [
    {
     "data": {
      "text/plain": [
       "'easthat'"
      ]
     },
     "execution_count": 36,
     "metadata": {},
     "output_type": "execute_result"
    }
   ],
   "source": [
    "left_word[6]"
   ]
  },
  {
   "cell_type": "markdown",
   "metadata": {},
   "source": [
    "# Próxima Query"
   ]
  },
  {
   "cell_type": "code",
   "execution_count": 1,
   "metadata": {},
   "outputs": [],
   "source": [
    "query = 'believeinyourselfhavefaithinyourabilities'"
   ]
  },
  {
   "cell_type": "code",
   "execution_count": 17,
   "metadata": {},
   "outputs": [],
   "source": [
    "query = 'assimpleasthat'"
   ]
  },
  {
   "cell_type": "code",
   "execution_count": 18,
   "metadata": {},
   "outputs": [],
   "source": [
    "initial_state = ([query], [])"
   ]
  },
  {
   "cell_type": "code",
   "execution_count": 19,
   "metadata": {},
   "outputs": [],
   "source": [
    "state_word = initial_state[0][0]"
   ]
  },
  {
   "cell_type": "code",
   "execution_count": 20,
   "metadata": {},
   "outputs": [
    {
     "data": {
      "text/plain": [
       "'assimpleasthat'"
      ]
     },
     "execution_count": 20,
     "metadata": {},
     "output_type": "execute_result"
    }
   ],
   "source": [
    "state_word"
   ]
  },
  {
   "cell_type": "code",
   "execution_count": 21,
   "metadata": {},
   "outputs": [],
   "source": [
    "left_word = []\n",
    "right_word = []"
   ]
  },
  {
   "cell_type": "code",
   "execution_count": 22,
   "metadata": {},
   "outputs": [],
   "source": [
    "for i in range(0, len(state_word)):\n",
    "    left_word.append(state_word[i+1:])\n",
    "    right_word.append(state_word[:i+1])"
   ]
  },
  {
   "cell_type": "code",
   "execution_count": 37,
   "metadata": {},
   "outputs": [
    {
     "data": {
      "text/plain": [
       "['ssimpleasthat',\n",
       " 'simpleasthat',\n",
       " 'impleasthat',\n",
       " 'mpleasthat',\n",
       " 'pleasthat',\n",
       " 'leasthat',\n",
       " 'easthat',\n",
       " 'asthat',\n",
       " 'sthat',\n",
       " 'that',\n",
       " 'hat',\n",
       " 'at',\n",
       " 't',\n",
       " '']"
      ]
     },
     "execution_count": 37,
     "metadata": {},
     "output_type": "execute_result"
    }
   ],
   "source": [
    "left_word"
   ]
  },
  {
   "cell_type": "code",
   "execution_count": 38,
   "metadata": {},
   "outputs": [
    {
     "data": {
      "text/plain": [
       "['a',\n",
       " 'as',\n",
       " 'ass',\n",
       " 'assi',\n",
       " 'assim',\n",
       " 'assimp',\n",
       " 'assimpl',\n",
       " 'assimple',\n",
       " 'assimplea',\n",
       " 'assimpleas',\n",
       " 'assimpleast',\n",
       " 'assimpleasth',\n",
       " 'assimpleastha',\n",
       " 'assimpleasthat']"
      ]
     },
     "execution_count": 38,
     "metadata": {},
     "output_type": "execute_result"
    }
   ],
   "source": [
    "right_word"
   ]
  },
  {
   "cell_type": "code",
   "execution_count": 25,
   "metadata": {},
   "outputs": [],
   "source": [
    "possible_states = []"
   ]
  },
  {
   "cell_type": "code",
   "execution_count": 26,
   "metadata": {},
   "outputs": [],
   "source": [
    "for x,y in zip(left_word, right_word):\n",
    "    possible_states.append((x,y))"
   ]
  },
  {
   "cell_type": "code",
   "execution_count": 27,
   "metadata": {},
   "outputs": [
    {
     "data": {
      "text/plain": [
       "[('ssimpleasthat', 'a'),\n",
       " ('simpleasthat', 'as'),\n",
       " ('impleasthat', 'ass'),\n",
       " ('mpleasthat', 'assi'),\n",
       " ('pleasthat', 'assim'),\n",
       " ('leasthat', 'assimp'),\n",
       " ('easthat', 'assimpl'),\n",
       " ('asthat', 'assimple'),\n",
       " ('sthat', 'assimplea'),\n",
       " ('that', 'assimpleas'),\n",
       " ('hat', 'assimpleast'),\n",
       " ('at', 'assimpleasth'),\n",
       " ('t', 'assimpleastha'),\n",
       " ('', 'assimpleasthat')]"
      ]
     },
     "execution_count": 27,
     "metadata": {},
     "output_type": "execute_result"
    }
   ],
   "source": [
    "possible_states"
   ]
  },
  {
   "cell_type": "code",
   "execution_count": 28,
   "metadata": {},
   "outputs": [],
   "source": [
    "def split_word(word, index):\n",
    "    \"\"\"ddd\"\"\"\n",
    "\n",
    "    word = word\n",
    "\n",
    "    left_word = word[index+1 : ]\n",
    "    right_word = word[ : index+1]\n",
    "\n",
    "    return (left_word, right_word)"
   ]
  },
  {
   "cell_type": "code",
   "execution_count": 29,
   "metadata": {},
   "outputs": [],
   "source": [
    "def actions(state):\n",
    "    \"\"\" Metodo que implementa retorno da lista de acoes validas\n",
    "    para um determinado estado\n",
    "    \"\"\"\n",
    "\n",
    "    word = state[0][0]\n",
    "\n",
    "    possible_states = []\n",
    "\n",
    "    for i in range(0, len(word)):\n",
    "        possible_states.append(split_word(word=word, index=i))\n",
    "        \n",
    "    return possible_states"
   ]
  },
  {
   "cell_type": "code",
   "execution_count": 30,
   "metadata": {},
   "outputs": [
    {
     "data": {
      "text/plain": [
       "[('ssimpleasthat', 'a'),\n",
       " ('simpleasthat', 'as'),\n",
       " ('impleasthat', 'ass'),\n",
       " ('mpleasthat', 'assi'),\n",
       " ('pleasthat', 'assim'),\n",
       " ('leasthat', 'assimp'),\n",
       " ('easthat', 'assimpl'),\n",
       " ('asthat', 'assimple'),\n",
       " ('sthat', 'assimplea'),\n",
       " ('that', 'assimpleas'),\n",
       " ('hat', 'assimpleast'),\n",
       " ('at', 'assimpleasth'),\n",
       " ('t', 'assimpleastha'),\n",
       " ('', 'assimpleasthat')]"
      ]
     },
     "execution_count": 30,
     "metadata": {},
     "output_type": "execute_result"
    }
   ],
   "source": [
    "actions(state=initial_state)"
   ]
  },
  {
   "cell_type": "code",
   "execution_count": 31,
   "metadata": {},
   "outputs": [],
   "source": [
    "initial_state = (query, [])"
   ]
  },
  {
   "cell_type": "code",
   "execution_count": 32,
   "metadata": {},
   "outputs": [
    {
     "data": {
      "text/plain": [
       "('assimpleasthat', [])"
      ]
     },
     "execution_count": 32,
     "metadata": {},
     "output_type": "execute_result"
    }
   ],
   "source": [
    "initial_state "
   ]
  },
  {
   "cell_type": "code",
   "execution_count": 10,
   "metadata": {},
   "outputs": [],
   "source": [
    "action = ('inyourselfhavefaithinyourabilities', 'believe')"
   ]
  },
  {
   "cell_type": "code",
   "execution_count": 11,
   "metadata": {},
   "outputs": [
    {
     "data": {
      "text/plain": [
       "('inyourselfhavefaithinyourabilities', 'believe')"
      ]
     },
     "execution_count": 11,
     "metadata": {},
     "output_type": "execute_result"
    }
   ],
   "source": [
    "action"
   ]
  },
  {
   "cell_type": "code",
   "execution_count": 12,
   "metadata": {},
   "outputs": [],
   "source": [
    "initial_state[1].append(action[1])"
   ]
  },
  {
   "cell_type": "code",
   "execution_count": 13,
   "metadata": {},
   "outputs": [
    {
     "data": {
      "text/plain": [
       "('believeinyourselfhavefaithinyourabilities', ['believe'])"
      ]
     },
     "execution_count": 13,
     "metadata": {},
     "output_type": "execute_result"
    }
   ],
   "source": [
    "initial_state"
   ]
  },
  {
   "cell_type": "code",
   "execution_count": 1,
   "metadata": {},
   "outputs": [],
   "source": [
    "states = [('elieveinyourselfhavefaithinyourabilities', 'b'), ('lieveinyourselfhavefaithinyourabilities', 'be'), ('ieveinyourselfhavefaithinyourabilities', 'bel'), ('eveinyourselfhavefaithinyourabilities', 'beli'), ('veinyourselfhavefaithinyourabilities', 'belie'), ('einyourselfhavefaithinyourabilities', 'believ'), ('inyourselfhavefaithinyourabilities', 'believe'), ('nyourselfhavefaithinyourabilities', 'believei'), ('yourselfhavefaithinyourabilities', 'believein'), ('ourselfhavefaithinyourabilities', 'believeiny'), ('urselfhavefaithinyourabilities', 'believeinyo'), ('rselfhavefaithinyourabilities', 'believeinyou'), ('selfhavefaithinyourabilities', 'believeinyour'), ('elfhavefaithinyourabilities', 'believeinyours'), ('lfhavefaithinyourabilities', 'believeinyourse'), ('fhavefaithinyourabilities', 'believeinyoursel'), ('havefaithinyourabilities', 'believeinyourself'), ('avefaithinyourabilities', 'believeinyourselfh'), ('vefaithinyourabilities', 'believeinyourselfha'), ('efaithinyourabilities', 'believeinyourselfhav'), ('faithinyourabilities', 'believeinyourselfhave'), ('aithinyourabilities', 'believeinyourselfhavef'), ('ithinyourabilities', 'believeinyourselfhavefa'), ('thinyourabilities', 'believeinyourselfhavefai'), ('hinyourabilities', 'believeinyourselfhavefait'), ('inyourabilities', 'believeinyourselfhavefaith'), ('nyourabilities', 'believeinyourselfhavefaithi'), ('yourabilities', 'believeinyourselfhavefaithin'), ('ourabilities', 'believeinyourselfhavefaithiny'), ('urabilities', 'believeinyourselfhavefaithinyo'), ('rabilities', 'believeinyourselfhavefaithinyou'), ('abilities', 'believeinyourselfhavefaithinyour'), ('bilities', 'believeinyourselfhavefaithinyoura'), ('ilities', 'believeinyourselfhavefaithinyourab'), ('lities', 'believeinyourselfhavefaithinyourabi'), ('ities', 'believeinyourselfhavefaithinyourabil'), ('ties', 'believeinyourselfhavefaithinyourabili'), ('ies', 'believeinyourselfhavefaithinyourabilit'), ('es', 'believeinyourselfhavefaithinyourabiliti'), ('s', 'believeinyourselfhavefaithinyourabilitie'), ('', 'believeinyourselfhavefaithinyourabilities')]"
   ]
  },
  {
   "cell_type": "code",
   "execution_count": 2,
   "metadata": {},
   "outputs": [],
   "source": [
    "costs = [99.85285271744044, 92.69563657882674, 108.18552921848945, 106.28840923360357, 104.3912892487177, 104.3912892487177, 86.2571598738208, 104.3912892487177, 104.3912892487177, 104.3912892487177, 104.3912892487177, 104.3912892487177, 104.3912892487177, 104.3912892487177, 104.3912892487177, 104.3912892487177, 104.3912892487177, 104.3912892487177, 104.3912892487177, 104.3912892487177, 104.3912892487177, 104.3912892487177, 104.3912892487177, 104.3912892487177, 104.3912892487177, 104.3912892487177, 104.3912892487177, 104.3912892487177, 104.3912892487177, 104.3912892487177, 104.3912892487177, 104.3912892487177, 104.3912892487177, 104.3912892487177, 104.3912892487177, 104.3912892487177, 95.70193780372995, 108.18552921848945, 99.49617777350171, 99.92696068959417, 113.87688917314709]"
   ]
  },
  {
   "cell_type": "code",
   "execution_count": 3,
   "metadata": {},
   "outputs": [],
   "source": [
    "query = 'believeinyourselfhavefaithinyourabilities'"
   ]
  },
  {
   "cell_type": "code",
   "execution_count": 54,
   "metadata": {},
   "outputs": [],
   "source": [
    "left_word = []\n",
    "right_word = []"
   ]
  },
  {
   "cell_type": "code",
   "execution_count": 55,
   "metadata": {},
   "outputs": [],
   "source": [
    "for i in range(0, len(query)):\n",
    "    left_word.append(query[:-i-1])\n",
    "    right_word.append(query[-i-1:])"
   ]
  },
  {
   "cell_type": "code",
   "execution_count": 56,
   "metadata": {},
   "outputs": [
    {
     "data": {
      "text/plain": [
       "['s',\n",
       " 'es',\n",
       " 'ies',\n",
       " 'ties',\n",
       " 'ities',\n",
       " 'lities',\n",
       " 'ilities',\n",
       " 'bilities',\n",
       " 'abilities',\n",
       " 'rabilities',\n",
       " 'urabilities',\n",
       " 'ourabilities',\n",
       " 'yourabilities',\n",
       " 'nyourabilities',\n",
       " 'inyourabilities',\n",
       " 'hinyourabilities',\n",
       " 'thinyourabilities',\n",
       " 'ithinyourabilities',\n",
       " 'aithinyourabilities',\n",
       " 'faithinyourabilities',\n",
       " 'efaithinyourabilities',\n",
       " 'vefaithinyourabilities',\n",
       " 'avefaithinyourabilities',\n",
       " 'havefaithinyourabilities',\n",
       " 'fhavefaithinyourabilities',\n",
       " 'lfhavefaithinyourabilities',\n",
       " 'elfhavefaithinyourabilities',\n",
       " 'selfhavefaithinyourabilities',\n",
       " 'rselfhavefaithinyourabilities',\n",
       " 'urselfhavefaithinyourabilities',\n",
       " 'ourselfhavefaithinyourabilities',\n",
       " 'yourselfhavefaithinyourabilities',\n",
       " 'nyourselfhavefaithinyourabilities',\n",
       " 'inyourselfhavefaithinyourabilities',\n",
       " 'einyourselfhavefaithinyourabilities',\n",
       " 'veinyourselfhavefaithinyourabilities',\n",
       " 'eveinyourselfhavefaithinyourabilities',\n",
       " 'ieveinyourselfhavefaithinyourabilities',\n",
       " 'lieveinyourselfhavefaithinyourabilities',\n",
       " 'elieveinyourselfhavefaithinyourabilities',\n",
       " 'believeinyourselfhavefaithinyourabilities']"
      ]
     },
     "execution_count": 56,
     "metadata": {},
     "output_type": "execute_result"
    }
   ],
   "source": [
    "right_word"
   ]
  },
  {
   "cell_type": "code",
   "execution_count": 57,
   "metadata": {},
   "outputs": [
    {
     "data": {
      "text/plain": [
       "['believeinyourselfhavefaithinyourabilitie',\n",
       " 'believeinyourselfhavefaithinyourabiliti',\n",
       " 'believeinyourselfhavefaithinyourabilit',\n",
       " 'believeinyourselfhavefaithinyourabili',\n",
       " 'believeinyourselfhavefaithinyourabil',\n",
       " 'believeinyourselfhavefaithinyourabi',\n",
       " 'believeinyourselfhavefaithinyourab',\n",
       " 'believeinyourselfhavefaithinyoura',\n",
       " 'believeinyourselfhavefaithinyour',\n",
       " 'believeinyourselfhavefaithinyou',\n",
       " 'believeinyourselfhavefaithinyo',\n",
       " 'believeinyourselfhavefaithiny',\n",
       " 'believeinyourselfhavefaithin',\n",
       " 'believeinyourselfhavefaithi',\n",
       " 'believeinyourselfhavefaith',\n",
       " 'believeinyourselfhavefait',\n",
       " 'believeinyourselfhavefai',\n",
       " 'believeinyourselfhavefa',\n",
       " 'believeinyourselfhavef',\n",
       " 'believeinyourselfhave',\n",
       " 'believeinyourselfhav',\n",
       " 'believeinyourselfha',\n",
       " 'believeinyourselfh',\n",
       " 'believeinyourself',\n",
       " 'believeinyoursel',\n",
       " 'believeinyourse',\n",
       " 'believeinyours',\n",
       " 'believeinyour',\n",
       " 'believeinyou',\n",
       " 'believeinyo',\n",
       " 'believeiny',\n",
       " 'believein',\n",
       " 'believei',\n",
       " 'believe',\n",
       " 'believ',\n",
       " 'belie',\n",
       " 'beli',\n",
       " 'bel',\n",
       " 'be',\n",
       " 'b',\n",
       " '']"
      ]
     },
     "execution_count": 57,
     "metadata": {},
     "output_type": "execute_result"
    }
   ],
   "source": [
    "left_word"
   ]
  },
  {
   "cell_type": "code",
   "execution_count": 20,
   "metadata": {},
   "outputs": [],
   "source": [
    "possible_states = [('believeinyourselfhavefaithinyourabilitie', 's'), ('believeinyourselfhavefaithinyourabiliti', 'es'), ('believeinyourselfhavefaithinyourabilit', 'ies'), ('believeinyourselfhavefaithinyourabili', 'ties'), ('believeinyourselfhavefaithinyourabil', 'ities'), ('believeinyourselfhavefaithinyourabi', 'lities'), ('believeinyourselfhavefaithinyourab', 'ilities'), ('believeinyourselfhavefaithinyoura', 'bilities'), ('believeinyourselfhavefaithinyour', 'abilities'), ('believeinyourselfhavefaithinyou', 'rabilities'), ('believeinyourselfhavefaithinyo', 'urabilities'), ('believeinyourselfhavefaithiny', 'ourabilities'), ('believeinyourselfhavefaithin', 'yourabilities'), ('believeinyourselfhavefaithi', 'nyourabilities'), ('believeinyourselfhavefaith', 'inyourabilities'), ('believeinyourselfhavefait', 'hinyourabilities'), ('believeinyourselfhavefai', 'thinyourabilities'), ('believeinyourselfhavefa', 'ithinyourabilities'), ('believeinyourselfhavef', 'aithinyourabilities'), ('believeinyourselfhave', 'faithinyourabilities'), ('believeinyourselfhav', 'efaithinyourabilities'), ('believeinyourselfha', 'vefaithinyourabilities'), ('believeinyourselfh', 'avefaithinyourabilities'), ('believeinyourself', 'havefaithinyourabilities'), ('believeinyoursel', 'fhavefaithinyourabilities'), ('believeinyourse', 'lfhavefaithinyourabilities'), ('believeinyours', 'elfhavefaithinyourabilities'), ('believeinyour', 'selfhavefaithinyourabilities'), ('believeinyou', 'rselfhavefaithinyourabilities'), ('believeinyo', 'urselfhavefaithinyourabilities'), ('believeiny', 'ourselfhavefaithinyourabilities'), ('believein', 'yourselfhavefaithinyourabilities'), ('believei', 'nyourselfhavefaithinyourabilities'), ('believe', 'inyourselfhavefaithinyourabilities'), ('believ', 'einyourselfhavefaithinyourabilities'), ('belie', 'veinyourselfhavefaithinyourabilities'), ('beli', 'eveinyourselfhavefaithinyourabilities'), ('bel', 'ieveinyourselfhavefaithinyourabilities'), ('be', 'lieveinyourselfhavefaithinyourabilities'), ('b', 'elieveinyourselfhavefaithinyourabilities'), ('', 'believeinyourselfhavefaithinyourabilities')]"
   ]
  },
  {
   "cell_type": "code",
   "execution_count": 22,
   "metadata": {},
   "outputs": [],
   "source": [
    "costs =  [99.92696068959417, 99.49617777350171, 108.18552921848945, 95.70193780372995, 104.3912892487177, 104.3912892487177, 104.3912892487177, 104.3912892487177, 104.3912892487177, 104.3912892487177, 104.3912892487177, 104.3912892487177, 104.3912892487177, 104.3912892487177, 104.3912892487177, 104.3912892487177, 104.3912892487177, 104.3912892487177, 104.3912892487177, 104.3912892487177, 104.3912892487177, 104.3912892487177, 104.3912892487177, 104.3912892487177, 104.3912892487177, 104.3912892487177, 104.3912892487177, 104.3912892487177, 104.3912892487177, 104.3912892487177, 104.3912892487177, 104.3912892487177, 104.3912892487177, 86.2571598738208, 104.3912892487177, 104.3912892487177, 106.28840923360357, 108.18552921848945, 92.69563657882674, 99.85285271744044, 113.87688917314709]"
   ]
  },
  {
   "cell_type": "code",
   "execution_count": 24,
   "metadata": {},
   "outputs": [
    {
     "data": {
      "text/plain": [
       "33"
      ]
     },
     "execution_count": 24,
     "metadata": {},
     "output_type": "execute_result"
    }
   ],
   "source": [
    "index_min_cost = costs.index(min(costs))\n",
    "index_min_cost "
   ]
  },
  {
   "cell_type": "code",
   "execution_count": 25,
   "metadata": {},
   "outputs": [
    {
     "data": {
      "text/plain": [
       "('believe', 'inyourselfhavefaithinyourabilities')"
      ]
     },
     "execution_count": 25,
     "metadata": {},
     "output_type": "execute_result"
    }
   ],
   "source": [
    "possible_states[33]"
   ]
  },
  {
   "cell_type": "code",
   "execution_count": 26,
   "metadata": {},
   "outputs": [],
   "source": [
    "import sys\n",
    "sys.path.insert(0,'.')"
   ]
  },
  {
   "cell_type": "code",
   "execution_count": 29,
   "metadata": {},
   "outputs": [],
   "source": []
  },
  {
   "cell_type": "code",
   "execution_count": 30,
   "metadata": {},
   "outputs": [],
   "source": [
    "import util"
   ]
  },
  {
   "cell_type": "code",
   "execution_count": 32,
   "metadata": {},
   "outputs": [],
   "source": [
    "import ep1"
   ]
  },
  {
   "cell_type": "code",
   "execution_count": 34,
   "metadata": {},
   "outputs": [
    {
     "name": "stdout",
     "output_type": "stream",
     "text": [
      "Training language cost functions [corpus: corpus.txt]... \n",
      "Done!\n"
     ]
    }
   ],
   "source": [
    "unigramCost, bigramCost, possibleFills  =  ep1.getRealCosts()"
   ]
  },
  {
   "cell_type": "code",
   "execution_count": 36,
   "metadata": {},
   "outputs": [
    {
     "data": {
      "text/plain": [
       "5.51961845458248"
      ]
     },
     "execution_count": 36,
     "metadata": {},
     "output_type": "execute_result"
    }
   ],
   "source": [
    "unigramCost('this')"
   ]
  },
  {
   "cell_type": "code",
   "execution_count": 38,
   "metadata": {},
   "outputs": [
    {
     "data": {
      "text/plain": [
       "4.299970894371221"
      ]
     },
     "execution_count": 38,
     "metadata": {},
     "output_type": "execute_result"
    }
   ],
   "source": [
    "unigramCost('his')"
   ]
  },
  {
   "cell_type": "code",
   "execution_count": 39,
   "metadata": {},
   "outputs": [
    {
     "data": {
      "text/plain": [
       "11.692987804988075"
      ]
     },
     "execution_count": 39,
     "metadata": {},
     "output_type": "execute_result"
    }
   ],
   "source": [
    "unigramCost('t')"
   ]
  },
  {
   "cell_type": "code",
   "execution_count": 46,
   "metadata": {},
   "outputs": [],
   "source": [
    "_list = ['this', 't', 'his', 'assimpleas', 'as', 'simple', 'simpleas', 'assimple']"
   ]
  },
  {
   "cell_type": "code",
   "execution_count": 47,
   "metadata": {},
   "outputs": [],
   "source": [
    "costs = [unigramCost(x) for x in _list]"
   ]
  },
  {
   "cell_type": "code",
   "execution_count": 48,
   "metadata": {},
   "outputs": [
    {
     "data": {
      "text/plain": [
       "[5.51961845458248,\n",
       " 11.692987804988075,\n",
       " 4.299970894371221,\n",
       " 32.275884783057094,\n",
       " 4.958633985425333,\n",
       " 9.011966276273784,\n",
       " 28.481644813285335,\n",
       " 28.481644813285335]"
      ]
     },
     "execution_count": 48,
     "metadata": {},
     "output_type": "execute_result"
    }
   ],
   "source": [
    "costs"
   ]
  },
  {
   "cell_type": "code",
   "execution_count": 49,
   "metadata": {},
   "outputs": [
    {
     "name": "stdout",
     "output_type": "stream",
     "text": [
      "this - cost: 5.51961845458248\n",
      "t - cost: 11.692987804988075\n",
      "his - cost: 4.299970894371221\n",
      "assimpleas - cost: 32.275884783057094\n",
      "as - cost: 4.958633985425333\n",
      "simple - cost: 9.011966276273784\n",
      "simpleas - cost: 28.481644813285335\n",
      "assimple - cost: 28.481644813285335\n"
     ]
    }
   ],
   "source": [
    "for x, y in zip(_list, costs):\n",
    "    print(f'{x} - cost: {y}')"
   ]
  },
  {
   "cell_type": "code",
   "execution_count": 61,
   "metadata": {},
   "outputs": [
    {
     "name": "stdout",
     "output_type": "stream",
     "text": [
      "s - cost: 10.737476359960638\n",
      "es - cost: 12.203813428754065\n",
      "ies - cost: 22.79028485862769\n",
      "ties - cost: 12.203813428754065\n",
      "ities - cost: 22.79028485862769\n",
      "lities - cost: 24.68740484351357\n",
      "ilities - cost: 26.584524828399452\n",
      "bilities - cost: 28.481644813285335\n",
      "abilities - cost: 30.37876479817122\n",
      "rabilities - cost: 32.275884783057094\n",
      "urabilities - cost: 34.17300476794298\n",
      "ourabilities - cost: 36.07012475282886\n",
      "yourabilities - cost: 37.96724473771474\n",
      "nyourabilities - cost: 39.86436472260062\n",
      "inyourabilities - cost: 41.7614847074865\n",
      "hinyourabilities - cost: 43.658604692372386\n",
      "thinyourabilities - cost: 45.55572467725827\n",
      "ithinyourabilities - cost: 47.45284466214415\n",
      "aithinyourabilities - cost: 49.34996464703003\n",
      "faithinyourabilities - cost: 51.24708463191591\n",
      "efaithinyourabilities - cost: 53.144204616801794\n",
      "vefaithinyourabilities - cost: 55.04132460168767\n",
      "avefaithinyourabilities - cost: 56.93844458657355\n",
      "havefaithinyourabilities - cost: 58.835564571459436\n",
      "fhavefaithinyourabilities - cost: 60.73268455634532\n",
      "lfhavefaithinyourabilities - cost: 62.6298045412312\n",
      "elfhavefaithinyourabilities - cost: 64.52692452611707\n",
      "selfhavefaithinyourabilities - cost: 66.42404451100296\n",
      "rselfhavefaithinyourabilities - cost: 68.32116449588884\n",
      "urselfhavefaithinyourabilities - cost: 70.21828448077471\n",
      "ourselfhavefaithinyourabilities - cost: 72.1154044656606\n",
      "yourselfhavefaithinyourabilities - cost: 74.01252445054648\n",
      "nyourselfhavefaithinyourabilities - cost: 75.90964443543237\n",
      "inyourselfhavefaithinyourabilities - cost: 77.80676442031825\n",
      "einyourselfhavefaithinyourabilities - cost: 79.70388440520412\n",
      "veinyourselfhavefaithinyourabilities - cost: 81.60100439009001\n",
      "eveinyourselfhavefaithinyourabilities - cost: 83.49812437497589\n",
      "ieveinyourselfhavefaithinyourabilities - cost: 85.39524435986176\n",
      "lieveinyourselfhavefaithinyourabilities - cost: 87.29236434474765\n",
      "elieveinyourselfhavefaithinyourabilities - cost: 89.18948432963353\n",
      "believeinyourselfhavefaithinyourabilities - cost: 91.0866043145194\n"
     ]
    }
   ],
   "source": [
    "_list = ['abilities', 'a', 'b', 'il', 's']\n",
    "_list = right_word\n",
    "costs = [unigramCost(x) for x in _list]\n",
    "\n",
    "for x, y in zip(_list, costs):\n",
    "    print(f'{x} - cost: {y}')"
   ]
  },
  {
   "cell_type": "code",
   "execution_count": 62,
   "metadata": {},
   "outputs": [
    {
     "name": "stdout",
     "output_type": "stream",
     "text": [
      "believeinyourselfhavefaithinyourabilitie - cost: 89.18948432963353\n",
      "believeinyourselfhavefaithinyourabiliti - cost: 87.29236434474765\n",
      "believeinyourselfhavefaithinyourabilit - cost: 85.39524435986176\n",
      "believeinyourselfhavefaithinyourabili - cost: 83.49812437497589\n",
      "believeinyourselfhavefaithinyourabil - cost: 81.60100439009001\n",
      "believeinyourselfhavefaithinyourabi - cost: 79.70388440520412\n",
      "believeinyourselfhavefaithinyourab - cost: 77.80676442031825\n",
      "believeinyourselfhavefaithinyoura - cost: 75.90964443543237\n",
      "believeinyourselfhavefaithinyour - cost: 74.01252445054648\n",
      "believeinyourselfhavefaithinyou - cost: 72.1154044656606\n",
      "believeinyourselfhavefaithinyo - cost: 70.21828448077471\n",
      "believeinyourselfhavefaithiny - cost: 68.32116449588884\n",
      "believeinyourselfhavefaithin - cost: 66.42404451100296\n",
      "believeinyourselfhavefaithi - cost: 64.52692452611707\n",
      "believeinyourselfhavefaith - cost: 62.6298045412312\n",
      "believeinyourselfhavefait - cost: 60.73268455634532\n",
      "believeinyourselfhavefai - cost: 58.835564571459436\n",
      "believeinyourselfhavefa - cost: 56.93844458657355\n",
      "believeinyourselfhavef - cost: 55.04132460168767\n",
      "believeinyourselfhave - cost: 53.144204616801794\n",
      "believeinyourselfhav - cost: 51.24708463191591\n",
      "believeinyourselfha - cost: 49.34996464703003\n",
      "believeinyourselfh - cost: 47.45284466214415\n",
      "believeinyourself - cost: 45.55572467725827\n",
      "believeinyoursel - cost: 43.658604692372386\n",
      "believeinyourse - cost: 41.7614847074865\n",
      "believeinyours - cost: 39.86436472260062\n",
      "believeinyour - cost: 37.96724473771474\n",
      "believeinyou - cost: 36.07012475282886\n",
      "believeinyo - cost: 34.17300476794298\n",
      "believeiny - cost: 32.275884783057094\n",
      "believein - cost: 30.37876479817122\n",
      "believei - cost: 28.481644813285335\n",
      "believe - cost: 8.450395453502558\n",
      "believ - cost: 24.68740484351357\n",
      "belie - cost: 22.79028485862769\n",
      "beli - cost: 22.79028485862769\n",
      "bel - cost: 22.79028485862769\n",
      "be - cost: 5.403272234079077\n",
      "b - cost: 10.663368387806916\n",
      " - cost: 22.79028485862769\n"
     ]
    }
   ],
   "source": [
    "_list = ['abilities', 'a', 'b', 'il', 's']\n",
    "_list = left_word\n",
    "costs_1 = [unigramCost(x) for x in _list]\n",
    "\n",
    "for x, y in zip(_list, costs_1):\n",
    "    print(f'{x} - cost: {y}')"
   ]
  },
  {
   "cell_type": "code",
   "execution_count": 65,
   "metadata": {},
   "outputs": [],
   "source": [
    "_b = [ x + y for x, y in zip(costs, costs_1)]"
   ]
  },
  {
   "cell_type": "code",
   "execution_count": 67,
   "metadata": {},
   "outputs": [
    {
     "data": {
      "text/plain": [
       "'inyourselfhavefaithinyourabilities'"
      ]
     },
     "execution_count": 67,
     "metadata": {},
     "output_type": "execute_result"
    }
   ],
   "source": [
    "right_word[_b.index(min(_b))]"
   ]
  },
  {
   "cell_type": "markdown",
   "metadata": {},
   "source": [
    "# Problema 2"
   ]
  },
  {
   "cell_type": "code",
   "execution_count": 3,
   "metadata": {},
   "outputs": [],
   "source": [
    "import sys\n",
    "sys.path.insert(0,'.')"
   ]
  },
  {
   "cell_type": "code",
   "execution_count": 4,
   "metadata": {},
   "outputs": [],
   "source": [
    "import util\n",
    "import ep1"
   ]
  },
  {
   "cell_type": "code",
   "execution_count": 5,
   "metadata": {},
   "outputs": [
    {
     "name": "stdout",
     "output_type": "stream",
     "text": [
      "Training language cost functions [corpus: corpus.txt]... \n",
      "Done!\n"
     ]
    }
   ],
   "source": [
    "unigramCost, bigramCost, possibleFills  =  ep1.getRealCosts()"
   ]
  },
  {
   "cell_type": "code",
   "execution_count": null,
   "metadata": {},
   "outputs": [],
   "source": [
    "('sometimes', 'altar'), ('sometimes', 'alter'), ('sometimes', 'later')"
   ]
  },
  {
   "cell_type": "code",
   "execution_count": 19,
   "metadata": {},
   "outputs": [
    {
     "name": "stdout",
     "output_type": "stream",
     "text": [
      "['sometimes']\n",
      "['later', 'alter', 'altar']\n",
      "sometimes later - cost: 13.304888246862197\n",
      "sometimes alter - cost: 13.304888246862197\n",
      "sometimes altar - cost: 13.304888246862197\n"
     ]
    }
   ],
   "source": [
    "_a = list(possibleFills('smtms'))\n",
    "print(_a)\n",
    "_b = list(possibleFills('ltr'))\n",
    "print(_b)\n",
    "\n",
    "costs = []\n",
    "for a in _a:\n",
    "    for b in _b:\n",
    "        cost = bigramCost(a, b)\n",
    "        print(f'{a} {b} - cost: {cost}')"
   ]
  },
  {
   "cell_type": "code",
   "execution_count": 7,
   "metadata": {},
   "outputs": [
    {
     "data": {
      "text/plain": [
       "'would like to have more letterswld lk t hv mr lttrs'"
      ]
     },
     "execution_count": 7,
     "metadata": {},
     "output_type": "execute_result"
    }
   ],
   "source": [
    "'would like to have more letters' 'wld lk t hv mr lttrs'"
   ]
  },
  {
   "cell_type": "code",
   "execution_count": 8,
   "metadata": {},
   "outputs": [],
   "source": [
    "_a = list(possibleFills('wld'))\n",
    "_a\n",
    "_b = list(possibleFills('lk'))\n",
    "_b\n",
    "\n",
    "pairs = []\n",
    "for a in _a:\n",
    "    for b in _b:\n",
    "        pairs.append((a, b))"
   ]
  },
  {
   "cell_type": "code",
   "execution_count": 9,
   "metadata": {},
   "outputs": [
    {
     "data": {
      "text/plain": [
       "[('would', 'look'),\n",
       " ('would', 'alike'),\n",
       " ('would', 'lake'),\n",
       " ('would', 'like'),\n",
       " ('wild', 'look'),\n",
       " ('wild', 'alike'),\n",
       " ('wild', 'lake'),\n",
       " ('wild', 'like'),\n",
       " ('wield', 'look'),\n",
       " ('wield', 'alike'),\n",
       " ('wield', 'lake'),\n",
       " ('wield', 'like'),\n",
       " ('wailed', 'look'),\n",
       " ('wailed', 'alike'),\n",
       " ('wailed', 'lake'),\n",
       " ('wailed', 'like')]"
      ]
     },
     "execution_count": 9,
     "metadata": {},
     "output_type": "execute_result"
    }
   ],
   "source": [
    "pairs"
   ]
  },
  {
   "cell_type": "code",
   "execution_count": 22,
   "metadata": {},
   "outputs": [
    {
     "data": {
      "text/plain": [
       "'robert'"
      ]
     },
     "execution_count": 22,
     "metadata": {},
     "output_type": "execute_result"
    }
   ],
   "source": [
    "['lucas', 'roberto', 'da', 'costa'].pop()"
   ]
  },
  {
   "cell_type": "code",
   "execution_count": 38,
   "metadata": {},
   "outputs": [],
   "source": [
    "_c = ['lucas', 'roberto', 'da', 'costa']"
   ]
  },
  {
   "cell_type": "code",
   "execution_count": 42,
   "metadata": {},
   "outputs": [
    {
     "data": {
      "text/plain": [
       "'roberto'"
      ]
     },
     "execution_count": 42,
     "metadata": {},
     "output_type": "execute_result"
    }
   ],
   "source": [
    "_c.pop(0)"
   ]
  },
  {
   "cell_type": "code",
   "execution_count": 43,
   "metadata": {},
   "outputs": [
    {
     "data": {
      "text/plain": [
       "['da', 'costa']"
      ]
     },
     "execution_count": 43,
     "metadata": {},
     "output_type": "execute_result"
    }
   ],
   "source": [
    "_c"
   ]
  },
  {
   "cell_type": "code",
   "execution_count": 47,
   "metadata": {},
   "outputs": [
    {
     "data": {
      "text/plain": [
       "['lucas']"
      ]
     },
     "execution_count": 47,
     "metadata": {},
     "output_type": "execute_result"
    }
   ],
   "source": [
    "'lucas'.split()"
   ]
  },
  {
   "cell_type": "code",
   "execution_count": null,
   "metadata": {},
   "outputs": [],
   "source": []
  }
 ],
 "metadata": {
  "kernelspec": {
   "display_name": "Python 3",
   "language": "python",
   "name": "python3"
  },
  "language_info": {
   "codemirror_mode": {
    "name": "ipython",
    "version": 3
   },
   "file_extension": ".py",
   "mimetype": "text/x-python",
   "name": "python",
   "nbconvert_exporter": "python",
   "pygments_lexer": "ipython3",
   "version": "3.7.4"
  }
 },
 "nbformat": 4,
 "nbformat_minor": 2
}
