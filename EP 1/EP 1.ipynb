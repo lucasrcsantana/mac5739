{
 "cells": [
  {
   "cell_type": "code",
   "execution_count": 63,
   "metadata": {},
   "outputs": [],
   "source": [
    "left_word = []\n",
    "right_word = []"
   ]
  },
  {
   "cell_type": "code",
   "execution_count": 64,
   "metadata": {},
   "outputs": [],
   "source": [
    "query = 'believeinyourselfhavefaithinyourabilities'"
   ]
  },
  {
   "cell_type": "code",
   "execution_count": 65,
   "metadata": {},
   "outputs": [],
   "source": [
    "for i in range(0, len(query)):\n",
    "    left_word.append(query[:i+1])\n",
    "    right_word.append(query[i+1:])"
   ]
  },
  {
   "cell_type": "code",
   "execution_count": 66,
   "metadata": {},
   "outputs": [
    {
     "data": {
      "text/plain": [
       "['b',\n",
       " 'be',\n",
       " 'bel',\n",
       " 'beli',\n",
       " 'belie',\n",
       " 'believ',\n",
       " 'believe',\n",
       " 'believei',\n",
       " 'believein',\n",
       " 'believeiny',\n",
       " 'believeinyo',\n",
       " 'believeinyou',\n",
       " 'believeinyour',\n",
       " 'believeinyours',\n",
       " 'believeinyourse',\n",
       " 'believeinyoursel',\n",
       " 'believeinyourself',\n",
       " 'believeinyourselfh',\n",
       " 'believeinyourselfha',\n",
       " 'believeinyourselfhav',\n",
       " 'believeinyourselfhave',\n",
       " 'believeinyourselfhavef',\n",
       " 'believeinyourselfhavefa',\n",
       " 'believeinyourselfhavefai',\n",
       " 'believeinyourselfhavefait',\n",
       " 'believeinyourselfhavefaith',\n",
       " 'believeinyourselfhavefaithi',\n",
       " 'believeinyourselfhavefaithin',\n",
       " 'believeinyourselfhavefaithiny',\n",
       " 'believeinyourselfhavefaithinyo',\n",
       " 'believeinyourselfhavefaithinyou',\n",
       " 'believeinyourselfhavefaithinyour',\n",
       " 'believeinyourselfhavefaithinyoura',\n",
       " 'believeinyourselfhavefaithinyourab',\n",
       " 'believeinyourselfhavefaithinyourabi',\n",
       " 'believeinyourselfhavefaithinyourabil',\n",
       " 'believeinyourselfhavefaithinyourabili',\n",
       " 'believeinyourselfhavefaithinyourabilit',\n",
       " 'believeinyourselfhavefaithinyourabiliti',\n",
       " 'believeinyourselfhavefaithinyourabilitie',\n",
       " 'believeinyourselfhavefaithinyourabilities']"
      ]
     },
     "execution_count": 66,
     "metadata": {},
     "output_type": "execute_result"
    }
   ],
   "source": [
    "left_word"
   ]
  },
  {
   "cell_type": "code",
   "execution_count": 67,
   "metadata": {},
   "outputs": [
    {
     "data": {
      "text/plain": [
       "['elieveinyourselfhavefaithinyourabilities',\n",
       " 'lieveinyourselfhavefaithinyourabilities',\n",
       " 'ieveinyourselfhavefaithinyourabilities',\n",
       " 'eveinyourselfhavefaithinyourabilities',\n",
       " 'veinyourselfhavefaithinyourabilities',\n",
       " 'einyourselfhavefaithinyourabilities',\n",
       " 'inyourselfhavefaithinyourabilities',\n",
       " 'nyourselfhavefaithinyourabilities',\n",
       " 'yourselfhavefaithinyourabilities',\n",
       " 'ourselfhavefaithinyourabilities',\n",
       " 'urselfhavefaithinyourabilities',\n",
       " 'rselfhavefaithinyourabilities',\n",
       " 'selfhavefaithinyourabilities',\n",
       " 'elfhavefaithinyourabilities',\n",
       " 'lfhavefaithinyourabilities',\n",
       " 'fhavefaithinyourabilities',\n",
       " 'havefaithinyourabilities',\n",
       " 'avefaithinyourabilities',\n",
       " 'vefaithinyourabilities',\n",
       " 'efaithinyourabilities',\n",
       " 'faithinyourabilities',\n",
       " 'aithinyourabilities',\n",
       " 'ithinyourabilities',\n",
       " 'thinyourabilities',\n",
       " 'hinyourabilities',\n",
       " 'inyourabilities',\n",
       " 'nyourabilities',\n",
       " 'yourabilities',\n",
       " 'ourabilities',\n",
       " 'urabilities',\n",
       " 'rabilities',\n",
       " 'abilities',\n",
       " 'bilities',\n",
       " 'ilities',\n",
       " 'lities',\n",
       " 'ities',\n",
       " 'ties',\n",
       " 'ies',\n",
       " 'es',\n",
       " 's',\n",
       " '']"
      ]
     },
     "execution_count": 67,
     "metadata": {},
     "output_type": "execute_result"
    }
   ],
   "source": [
    "right_word"
   ]
  },
  {
   "cell_type": "code",
   "execution_count": 76,
   "metadata": {},
   "outputs": [],
   "source": [
    "left_word_costs = [10.663368387806916, 5.403272234079077, 22.79028485862769, 22.79028485862769, 22.79028485862769, 24.68740484351357, 8.450395453502558, 28.481644813285335, 30.37876479817122, 32.275884783057094, 34.17300476794298, 36.07012475282886, 37.96724473771474, 39.86436472260062, 41.7614847074865, 43.658604692372386, 45.55572467725827, 47.45284466214415, 49.34996464703003, 51.24708463191591, 53.144204616801794, 55.04132460168767, 56.93844458657355, 58.835564571459436, 60.73268455634532, 62.6298045412312, 64.52692452611707, 66.42404451100296, 68.32116449588884, 70.21828448077471, 72.1154044656606, 74.01252445054648, \n",
    "75.90964443543237, 77.80676442031825, 79.70388440520412, 81.60100439009001, 83.49812437497589, 85.39524435986176, 87.29236434474765, 89.18948432963353, 91.0866043145194]"
   ]
  },
  {
   "cell_type": "code",
   "execution_count": 77,
   "metadata": {},
   "outputs": [
    {
     "name": "stdout",
     "output_type": "stream",
     "text": [
      "Palavra: b - Custo 10.663368387806916\n",
      "Palavra: be - Custo 5.403272234079077\n",
      "Palavra: bel - Custo 22.79028485862769\n",
      "Palavra: beli - Custo 22.79028485862769\n",
      "Palavra: belie - Custo 22.79028485862769\n",
      "Palavra: believ - Custo 24.68740484351357\n",
      "Palavra: believe - Custo 8.450395453502558\n",
      "Palavra: believei - Custo 28.481644813285335\n",
      "Palavra: believein - Custo 30.37876479817122\n",
      "Palavra: believeiny - Custo 32.275884783057094\n",
      "Palavra: believeinyo - Custo 34.17300476794298\n",
      "Palavra: believeinyou - Custo 36.07012475282886\n",
      "Palavra: believeinyour - Custo 37.96724473771474\n",
      "Palavra: believeinyours - Custo 39.86436472260062\n",
      "Palavra: believeinyourse - Custo 41.7614847074865\n",
      "Palavra: believeinyoursel - Custo 43.658604692372386\n",
      "Palavra: believeinyourself - Custo 45.55572467725827\n",
      "Palavra: believeinyourselfh - Custo 47.45284466214415\n",
      "Palavra: believeinyourselfha - Custo 49.34996464703003\n",
      "Palavra: believeinyourselfhav - Custo 51.24708463191591\n",
      "Palavra: believeinyourselfhave - Custo 53.144204616801794\n",
      "Palavra: believeinyourselfhavef - Custo 55.04132460168767\n",
      "Palavra: believeinyourselfhavefa - Custo 56.93844458657355\n",
      "Palavra: believeinyourselfhavefai - Custo 58.835564571459436\n",
      "Palavra: believeinyourselfhavefait - Custo 60.73268455634532\n",
      "Palavra: believeinyourselfhavefaith - Custo 62.6298045412312\n",
      "Palavra: believeinyourselfhavefaithi - Custo 64.52692452611707\n",
      "Palavra: believeinyourselfhavefaithin - Custo 66.42404451100296\n",
      "Palavra: believeinyourselfhavefaithiny - Custo 68.32116449588884\n",
      "Palavra: believeinyourselfhavefaithinyo - Custo 70.21828448077471\n",
      "Palavra: believeinyourselfhavefaithinyou - Custo 72.1154044656606\n",
      "Palavra: believeinyourselfhavefaithinyour - Custo 74.01252445054648\n",
      "Palavra: believeinyourselfhavefaithinyoura - Custo 75.90964443543237\n",
      "Palavra: believeinyourselfhavefaithinyourab - Custo 77.80676442031825\n",
      "Palavra: believeinyourselfhavefaithinyourabi - Custo 79.70388440520412\n",
      "Palavra: believeinyourselfhavefaithinyourabil - Custo 81.60100439009001\n",
      "Palavra: believeinyourselfhavefaithinyourabili - Custo 83.49812437497589\n",
      "Palavra: believeinyourselfhavefaithinyourabilit - Custo 85.39524435986176\n",
      "Palavra: believeinyourselfhavefaithinyourabiliti - Custo 87.29236434474765\n",
      "Palavra: believeinyourselfhavefaithinyourabilitie - Custo 89.18948432963353\n",
      "Palavra: believeinyourselfhavefaithinyourabilities - Custo 91.0866043145194\n"
     ]
    }
   ],
   "source": [
    "for x, y in zip(left_word, left_word_costs):\n",
    "    print(f'Palavra: {x} - Custo {y}')"
   ]
  },
  {
   "cell_type": "code",
   "execution_count": 78,
   "metadata": {},
   "outputs": [],
   "source": [
    "right_word_costs = [89.18948432963353, 87.29236434474765, 85.39524435986176, 83.49812437497589, 81.60100439009001, 79.70388440520412, 77.80676442031825, 75.90964443543237, 74.01252445054648, 72.1154044656606, 70.21828448077471, 68.32116449588884, 66.42404451100296, 64.52692452611707, 62.6298045412312, 60.73268455634532, 58.835564571459436, 56.93844458657355, 55.04132460168767, 53.144204616801794, 51.24708463191591, 49.34996464703003, 47.45284466214415, 45.55572467725827, 43.658604692372386, 41.7614847074865, 39.86436472260062, 37.96724473771474, 36.07012475282886, 34.17300476794298, 32.275884783057094, 30.37876479817122, 28.481644813285335, 26.584524828399452, 24.68740484351357, 22.79028485862769, 12.203813428754065, 22.79028485862769, 12.203813428754065, 10.737476359960638, 22.79028485862769]"
   ]
  },
  {
   "cell_type": "code",
   "execution_count": 79,
   "metadata": {},
   "outputs": [
    {
     "name": "stdout",
     "output_type": "stream",
     "text": [
      "Palavra: elieveinyourselfhavefaithinyourabilities - Custo 89.18948432963353\n",
      "Palavra: lieveinyourselfhavefaithinyourabilities - Custo 87.29236434474765\n",
      "Palavra: ieveinyourselfhavefaithinyourabilities - Custo 85.39524435986176\n",
      "Palavra: eveinyourselfhavefaithinyourabilities - Custo 83.49812437497589\n",
      "Palavra: veinyourselfhavefaithinyourabilities - Custo 81.60100439009001\n",
      "Palavra: einyourselfhavefaithinyourabilities - Custo 79.70388440520412\n",
      "Palavra: inyourselfhavefaithinyourabilities - Custo 77.80676442031825\n",
      "Palavra: nyourselfhavefaithinyourabilities - Custo 75.90964443543237\n",
      "Palavra: yourselfhavefaithinyourabilities - Custo 74.01252445054648\n",
      "Palavra: ourselfhavefaithinyourabilities - Custo 72.1154044656606\n",
      "Palavra: urselfhavefaithinyourabilities - Custo 70.21828448077471\n",
      "Palavra: rselfhavefaithinyourabilities - Custo 68.32116449588884\n",
      "Palavra: selfhavefaithinyourabilities - Custo 66.42404451100296\n",
      "Palavra: elfhavefaithinyourabilities - Custo 64.52692452611707\n",
      "Palavra: lfhavefaithinyourabilities - Custo 62.6298045412312\n",
      "Palavra: fhavefaithinyourabilities - Custo 60.73268455634532\n",
      "Palavra: havefaithinyourabilities - Custo 58.835564571459436\n",
      "Palavra: avefaithinyourabilities - Custo 56.93844458657355\n",
      "Palavra: vefaithinyourabilities - Custo 55.04132460168767\n",
      "Palavra: efaithinyourabilities - Custo 53.144204616801794\n",
      "Palavra: faithinyourabilities - Custo 51.24708463191591\n",
      "Palavra: aithinyourabilities - Custo 49.34996464703003\n",
      "Palavra: ithinyourabilities - Custo 47.45284466214415\n",
      "Palavra: thinyourabilities - Custo 45.55572467725827\n",
      "Palavra: hinyourabilities - Custo 43.658604692372386\n",
      "Palavra: inyourabilities - Custo 41.7614847074865\n",
      "Palavra: nyourabilities - Custo 39.86436472260062\n",
      "Palavra: yourabilities - Custo 37.96724473771474\n",
      "Palavra: ourabilities - Custo 36.07012475282886\n",
      "Palavra: urabilities - Custo 34.17300476794298\n",
      "Palavra: rabilities - Custo 32.275884783057094\n",
      "Palavra: abilities - Custo 30.37876479817122\n",
      "Palavra: bilities - Custo 28.481644813285335\n",
      "Palavra: ilities - Custo 26.584524828399452\n",
      "Palavra: lities - Custo 24.68740484351357\n",
      "Palavra: ities - Custo 22.79028485862769\n",
      "Palavra: ties - Custo 12.203813428754065\n",
      "Palavra: ies - Custo 22.79028485862769\n",
      "Palavra: es - Custo 12.203813428754065\n",
      "Palavra: s - Custo 10.737476359960638\n",
      "Palavra:  - Custo 22.79028485862769\n"
     ]
    }
   ],
   "source": [
    "for x, y in zip(right_word, right_word_costs):\n",
    "    print(f'Palavra: {x} - Custo {y}')"
   ]
  },
  {
   "cell_type": "code",
   "execution_count": 85,
   "metadata": {},
   "outputs": [
    {
     "data": {
      "text/plain": [
       "'be'"
      ]
     },
     "execution_count": 85,
     "metadata": {},
     "output_type": "execute_result"
    }
   ],
   "source": [
    "left_word[costs.index(min(costs))]"
   ]
  },
  {
   "cell_type": "code",
   "execution_count": 71,
   "metadata": {},
   "outputs": [
    {
     "data": {
      "text/plain": [
       "'bel'"
      ]
     },
     "execution_count": 71,
     "metadata": {},
     "output_type": "execute_result"
    }
   ],
   "source": [
    "states[costs.index(min(costs)) + 1]"
   ]
  },
  {
   "cell_type": "code",
   "execution_count": 72,
   "metadata": {},
   "outputs": [
    {
     "data": {
      "text/plain": [
       "'lieveinyourselfhavefaithinyourabilities'"
      ]
     },
     "execution_count": 72,
     "metadata": {},
     "output_type": "execute_result"
    }
   ],
   "source": [
    "query[1 + 1:]"
   ]
  },
  {
   "cell_type": "code",
   "execution_count": 80,
   "metadata": {},
   "outputs": [
    {
     "data": {
      "text/plain": [
       "[10.663368387806916,\n",
       " 5.403272234079077,\n",
       " 22.79028485862769,\n",
       " 22.79028485862769,\n",
       " 22.79028485862769,\n",
       " 24.68740484351357,\n",
       " 8.450395453502558,\n",
       " 28.481644813285335,\n",
       " 30.37876479817122,\n",
       " 32.275884783057094,\n",
       " 34.17300476794298,\n",
       " 36.07012475282886,\n",
       " 37.96724473771474,\n",
       " 39.86436472260062,\n",
       " 41.7614847074865,\n",
       " 43.658604692372386,\n",
       " 45.55572467725827,\n",
       " 47.45284466214415,\n",
       " 49.34996464703003,\n",
       " 51.24708463191591,\n",
       " 53.144204616801794,\n",
       " 55.04132460168767,\n",
       " 56.93844458657355,\n",
       " 58.835564571459436,\n",
       " 60.73268455634532,\n",
       " 62.6298045412312,\n",
       " 64.52692452611707,\n",
       " 66.42404451100296,\n",
       " 68.32116449588884,\n",
       " 70.21828448077471,\n",
       " 72.1154044656606,\n",
       " 74.01252445054648,\n",
       " 75.90964443543237,\n",
       " 77.80676442031825,\n",
       " 79.70388440520412,\n",
       " 81.60100439009001,\n",
       " 83.49812437497589,\n",
       " 85.39524435986176,\n",
       " 87.29236434474765,\n",
       " 89.18948432963353,\n",
       " 91.0866043145194,\n",
       " 89.18948432963353,\n",
       " 87.29236434474765,\n",
       " 85.39524435986176,\n",
       " 83.49812437497589,\n",
       " 81.60100439009001,\n",
       " 79.70388440520412,\n",
       " 77.80676442031825,\n",
       " 75.90964443543237,\n",
       " 74.01252445054648,\n",
       " 72.1154044656606,\n",
       " 70.21828448077471,\n",
       " 68.32116449588884,\n",
       " 66.42404451100296,\n",
       " 64.52692452611707,\n",
       " 62.6298045412312,\n",
       " 60.73268455634532,\n",
       " 58.835564571459436,\n",
       " 56.93844458657355,\n",
       " 55.04132460168767,\n",
       " 53.144204616801794,\n",
       " 51.24708463191591,\n",
       " 49.34996464703003,\n",
       " 47.45284466214415,\n",
       " 45.55572467725827,\n",
       " 43.658604692372386,\n",
       " 41.7614847074865,\n",
       " 39.86436472260062,\n",
       " 37.96724473771474,\n",
       " 36.07012475282886,\n",
       " 34.17300476794298,\n",
       " 32.275884783057094,\n",
       " 30.37876479817122,\n",
       " 28.481644813285335,\n",
       " 26.584524828399452,\n",
       " 24.68740484351357,\n",
       " 22.79028485862769,\n",
       " 12.203813428754065,\n",
       " 22.79028485862769,\n",
       " 12.203813428754065,\n",
       " 10.737476359960638,\n",
       " 22.79028485862769]"
      ]
     },
     "execution_count": 80,
     "metadata": {},
     "output_type": "execute_result"
    }
   ],
   "source": [
    "left_word_costs + right_word_costs"
   ]
  },
  {
   "cell_type": "code",
   "execution_count": 82,
   "metadata": {},
   "outputs": [],
   "source": [
    "total_costs = [x + y for x,y in zip(left_word_costs, right_word_costs)]"
   ]
  },
  {
   "cell_type": "code",
   "execution_count": 87,
   "metadata": {},
   "outputs": [
    {
     "data": {
      "text/plain": [
       "[99.85285271744044,\n",
       " 92.69563657882674,\n",
       " 108.18552921848945,\n",
       " 106.28840923360357,\n",
       " 104.3912892487177,\n",
       " 104.3912892487177,\n",
       " 86.2571598738208,\n",
       " 104.3912892487177,\n",
       " 104.3912892487177,\n",
       " 104.3912892487177,\n",
       " 104.3912892487177,\n",
       " 104.3912892487177,\n",
       " 104.3912892487177,\n",
       " 104.3912892487177,\n",
       " 104.3912892487177,\n",
       " 104.3912892487177,\n",
       " 104.3912892487177,\n",
       " 104.3912892487177,\n",
       " 104.3912892487177,\n",
       " 104.3912892487177,\n",
       " 104.3912892487177,\n",
       " 104.3912892487177,\n",
       " 104.3912892487177,\n",
       " 104.3912892487177,\n",
       " 104.3912892487177,\n",
       " 104.3912892487177,\n",
       " 104.3912892487177,\n",
       " 104.3912892487177,\n",
       " 104.3912892487177,\n",
       " 104.3912892487177,\n",
       " 104.3912892487177,\n",
       " 104.3912892487177,\n",
       " 104.3912892487177,\n",
       " 104.3912892487177,\n",
       " 104.3912892487177,\n",
       " 104.3912892487177,\n",
       " 95.70193780372995,\n",
       " 108.18552921848945,\n",
       " 99.49617777350171,\n",
       " 99.92696068959417,\n",
       " 113.87688917314709]"
      ]
     },
     "execution_count": 87,
     "metadata": {},
     "output_type": "execute_result"
    }
   ],
   "source": [
    "total_costs"
   ]
  },
  {
   "cell_type": "code",
   "execution_count": 84,
   "metadata": {},
   "outputs": [
    {
     "data": {
      "text/plain": [
       "6"
      ]
     },
     "execution_count": 84,
     "metadata": {},
     "output_type": "execute_result"
    }
   ],
   "source": [
    "total_costs.index(min(total_costs))"
   ]
  },
  {
   "cell_type": "code",
   "execution_count": 86,
   "metadata": {},
   "outputs": [
    {
     "data": {
      "text/plain": [
       "'believe'"
      ]
     },
     "execution_count": 86,
     "metadata": {},
     "output_type": "execute_result"
    }
   ],
   "source": [
    "left_word[6]"
   ]
  },
  {
   "cell_type": "markdown",
   "metadata": {},
   "source": [
    "# Próxima Query"
   ]
  },
  {
   "cell_type": "code",
   "execution_count": 88,
   "metadata": {},
   "outputs": [],
   "source": [
    "left_word_costs = [11.916131356302284, 22.79028485862769, 5.000159922548807, 6.464020516574831, 22.79028485862769, 24.68740484351357, 26.584524828399452, 28.481644813285335, 30.37876479817122, 32.275884783057094, 34.17300476794298, 36.07012475282886, 37.96724473771474]"
   ]
  },
  {
   "cell_type": "code",
   "execution_count": 89,
   "metadata": {},
   "outputs": [],
   "source": [
    "right_word_costs = [36.07012475282886, 34.17300476794298, 32.275884783057094, 30.37876479817122, 28.481644813285335, 26.584524828399452, 24.68740484351357, 22.79028485862769, 12.203813428754065, 22.79028485862769, 12.203813428754065, 10.737476359960638, 22.79028485862769]"
   ]
  },
  {
   "cell_type": "code",
   "execution_count": 90,
   "metadata": {},
   "outputs": [
    {
     "data": {
      "text/plain": [
       "[11.916131356302284,\n",
       " 22.79028485862769,\n",
       " 5.000159922548807,\n",
       " 6.464020516574831,\n",
       " 22.79028485862769,\n",
       " 24.68740484351357,\n",
       " 26.584524828399452,\n",
       " 28.481644813285335,\n",
       " 30.37876479817122,\n",
       " 32.275884783057094,\n",
       " 34.17300476794298,\n",
       " 36.07012475282886,\n",
       " 37.96724473771474]"
      ]
     },
     "execution_count": 90,
     "metadata": {},
     "output_type": "execute_result"
    }
   ],
   "source": [
    "left_word_costs"
   ]
  },
  {
   "cell_type": "code",
   "execution_count": 91,
   "metadata": {},
   "outputs": [
    {
     "data": {
      "text/plain": [
       "[36.07012475282886,\n",
       " 34.17300476794298,\n",
       " 32.275884783057094,\n",
       " 30.37876479817122,\n",
       " 28.481644813285335,\n",
       " 26.584524828399452,\n",
       " 24.68740484351357,\n",
       " 22.79028485862769,\n",
       " 12.203813428754065,\n",
       " 22.79028485862769,\n",
       " 12.203813428754065,\n",
       " 10.737476359960638,\n",
       " 22.79028485862769]"
      ]
     },
     "execution_count": 91,
     "metadata": {},
     "output_type": "execute_result"
    }
   ],
   "source": [
    "right_word_costs"
   ]
  },
  {
   "cell_type": "code",
   "execution_count": 92,
   "metadata": {},
   "outputs": [],
   "source": [
    "total_costs = [x + y for x,y in zip(left_word_costs, right_word_costs)]"
   ]
  },
  {
   "cell_type": "code",
   "execution_count": 93,
   "metadata": {},
   "outputs": [
    {
     "data": {
      "text/plain": [
       "[47.98625610913115,\n",
       " 56.96328962657067,\n",
       " 37.2760447056059,\n",
       " 36.84278531474605,\n",
       " 51.27192967191303,\n",
       " 51.27192967191302,\n",
       " 51.27192967191302,\n",
       " 51.27192967191303,\n",
       " 42.582578226925285,\n",
       " 55.06616964168478,\n",
       " 46.376818196697045,\n",
       " 46.8076011127895,\n",
       " 60.75752959634244]"
      ]
     },
     "execution_count": 93,
     "metadata": {},
     "output_type": "execute_result"
    }
   ],
   "source": [
    "total_costs"
   ]
  },
  {
   "cell_type": "code",
   "execution_count": null,
   "metadata": {},
   "outputs": [],
   "source": [
    "Min Cost: 3"
   ]
  },
  {
   "cell_type": "code",
   "execution_count": null,
   "metadata": {},
   "outputs": [],
   "source": [
    "['your']"
   ]
  }
 ],
 "metadata": {
  "kernelspec": {
   "display_name": "Python 3",
   "language": "python",
   "name": "python3"
  },
  "language_info": {
   "codemirror_mode": {
    "name": "ipython",
    "version": 3
   },
   "file_extension": ".py",
   "mimetype": "text/x-python",
   "name": "python",
   "nbconvert_exporter": "python",
   "pygments_lexer": "ipython3",
   "version": "3.7.4"
  }
 },
 "nbformat": 4,
 "nbformat_minor": 2
}
